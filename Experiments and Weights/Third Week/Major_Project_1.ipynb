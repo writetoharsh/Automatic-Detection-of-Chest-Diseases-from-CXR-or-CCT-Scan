{
  "nbformat": 4,
  "nbformat_minor": 0,
  "metadata": {
    "colab": {
      "name": "Major_Project_1.ipynb",
      "provenance": [],
      "collapsed_sections": []
    },
    "kernelspec": {
      "name": "python3",
      "display_name": "Python 3"
    },
    "language_info": {
      "name": "python"
    },
    "accelerator": "GPU"
  },
  "cells": [
    {
      "cell_type": "code",
      "execution_count": 1,
      "metadata": {
        "id": "JR1t7gfvJkF5"
      },
      "outputs": [],
      "source": [
        "TRAIN_PATH = \"/content/drive/MyDrive/CovidDataset/Train\" \n",
        "VAL_PATH = \"/content/drive/MyDrive/CovidDataset/Val\""
      ]
    },
    {
      "cell_type": "code",
      "source": [
        "import numpy as np\n",
        "import matplotlib.pyplot as plt\n",
        "import keras\n",
        "from keras.layers import *\n",
        "from keras.models import *\n",
        "from keras.preprocessing import image "
      ],
      "metadata": {
        "id": "7e13a-kGuDwT"
      },
      "execution_count": 2,
      "outputs": []
    },
    {
      "cell_type": "code",
      "source": [
        "# CNN Based Model in Keras\n",
        "\n",
        "model = Sequential()\n",
        "model.add(Conv2D(32, kernel_size=(3,3), activation='relu', input_shape=(224, 224, 3)))\n",
        "model.add(MaxPooling2D(pool_size=(2,2)))\n",
        "model.add(Dropout(0.25))\n",
        "\n",
        "model.add(Conv2D(64, (3,3), activation='relu'))\n",
        "model.add(MaxPooling2D(pool_size=(2,2)))\n",
        "model.add(Dropout(0.25))\n",
        "\n",
        "model.add(Conv2D(128, (3,3), activation='relu'))\n",
        "model.add(MaxPooling2D(pool_size=(2,2)))\n",
        "model.add(Dropout(0.25))\n",
        "\n",
        "model.add(Flatten())\n",
        "model.add(Dense(64, activation='relu'))\n",
        "model.add(Dropout(0.5))\n",
        "model.add(Dense(1, activation='sigmoid'))\n",
        "\n",
        "model.compile(loss=keras.losses.binary_crossentropy, optimizer='adam', metrics=['accuracy'])"
      ],
      "metadata": {
        "id": "bKvqibHuuZUR"
      },
      "execution_count": 19,
      "outputs": []
    },
    {
      "cell_type": "code",
      "source": [
        "model.summary()"
      ],
      "metadata": {
        "colab": {
          "base_uri": "https://localhost:8080/"
        },
        "id": "YKX9e7nhwqct",
        "outputId": "5db60a7f-ecca-4e11-fa7c-49030a99a010"
      },
      "execution_count": 20,
      "outputs": [
        {
          "output_type": "stream",
          "name": "stdout",
          "text": [
            "Model: \"sequential_2\"\n",
            "_________________________________________________________________\n",
            " Layer (type)                Output Shape              Param #   \n",
            "=================================================================\n",
            " conv2d_6 (Conv2D)           (None, 222, 222, 32)      896       \n",
            "                                                                 \n",
            " max_pooling2d_6 (MaxPooling  (None, 111, 111, 32)     0         \n",
            " 2D)                                                             \n",
            "                                                                 \n",
            " dropout_8 (Dropout)         (None, 111, 111, 32)      0         \n",
            "                                                                 \n",
            " conv2d_7 (Conv2D)           (None, 109, 109, 64)      18496     \n",
            "                                                                 \n",
            " max_pooling2d_7 (MaxPooling  (None, 54, 54, 64)       0         \n",
            " 2D)                                                             \n",
            "                                                                 \n",
            " dropout_9 (Dropout)         (None, 54, 54, 64)        0         \n",
            "                                                                 \n",
            " conv2d_8 (Conv2D)           (None, 52, 52, 128)       73856     \n",
            "                                                                 \n",
            " max_pooling2d_8 (MaxPooling  (None, 26, 26, 128)      0         \n",
            " 2D)                                                             \n",
            "                                                                 \n",
            " dropout_10 (Dropout)        (None, 26, 26, 128)       0         \n",
            "                                                                 \n",
            " flatten_2 (Flatten)         (None, 86528)             0         \n",
            "                                                                 \n",
            " dense_4 (Dense)             (None, 64)                5537856   \n",
            "                                                                 \n",
            " dropout_11 (Dropout)        (None, 64)                0         \n",
            "                                                                 \n",
            " dense_5 (Dense)             (None, 1)                 65        \n",
            "                                                                 \n",
            "=================================================================\n",
            "Total params: 5,631,169\n",
            "Trainable params: 5,631,169\n",
            "Non-trainable params: 0\n",
            "_________________________________________________________________\n"
          ]
        }
      ]
    },
    {
      "cell_type": "code",
      "source": [
        "# Train from scratch\n",
        "train_datagen = image.ImageDataGenerator(\n",
        "    rescale = 1./255,\n",
        "    shear_range = 0.2,\n",
        "    zoom_range = 0.2,\n",
        "    horizontal_flip = True\n",
        ")\n",
        "\n",
        "test_dataset = image.ImageDataGenerator(rescale=1./255)"
      ],
      "metadata": {
        "id": "hDA6oq2aw9Fj"
      },
      "execution_count": 21,
      "outputs": []
    },
    {
      "cell_type": "code",
      "source": [
        "train_generator = train_datagen.flow_from_directory(\n",
        "    '/content/drive/MyDrive/CovidDataset/Train',\n",
        "    target_size = (224, 224),\n",
        "    batch_size = 16,\n",
        "    class_mode = 'binary'\n",
        ")"
      ],
      "metadata": {
        "colab": {
          "base_uri": "https://localhost:8080/"
        },
        "id": "rlwzOAkXxd-4",
        "outputId": "66353b6d-1542-45c6-fbc6-a2dc02a7fdda"
      },
      "execution_count": 22,
      "outputs": [
        {
          "output_type": "stream",
          "name": "stdout",
          "text": [
            "Found 352 images belonging to 2 classes.\n"
          ]
        }
      ]
    },
    {
      "cell_type": "code",
      "source": [
        "train_generator.class_indices"
      ],
      "metadata": {
        "colab": {
          "base_uri": "https://localhost:8080/"
        },
        "id": "5yz0lz30ylCQ",
        "outputId": "33b310f1-2487-477b-835f-e9281e1cb85a"
      },
      "execution_count": 23,
      "outputs": [
        {
          "output_type": "execute_result",
          "data": {
            "text/plain": [
              "{'Covid': 0, 'Normal': 1}"
            ]
          },
          "metadata": {},
          "execution_count": 23
        }
      ]
    },
    {
      "cell_type": "code",
      "source": [
        "validation_generator = test_dataset.flow_from_directory(\n",
        "    '/content/drive/MyDrive/CovidDataset/Val',\n",
        "    target_size = (224, 224),\n",
        "    batch_size = 16,\n",
        "    class_mode = 'binary'\n",
        ")"
      ],
      "metadata": {
        "colab": {
          "base_uri": "https://localhost:8080/"
        },
        "id": "G9OwndjAyqHG",
        "outputId": "804d42c4-4b95-478e-d734-6e08c823de20"
      },
      "execution_count": 24,
      "outputs": [
        {
          "output_type": "stream",
          "name": "stdout",
          "text": [
            "Found 40 images belonging to 2 classes.\n"
          ]
        }
      ]
    },
    {
      "cell_type": "code",
      "source": [
        "hist = model.fit_generator(\n",
        "    train_generator,\n",
        "    steps_per_epoch=8,\n",
        "    epochs=10,\n",
        "    validation_data = validation_generator,\n",
        "    validation_steps=2\n",
        ")"
      ],
      "metadata": {
        "colab": {
          "base_uri": "https://localhost:8080/"
        },
        "id": "pfCym318zdjd",
        "outputId": "ad084e78-3226-4ae9-aa92-f8f866c5100c"
      },
      "execution_count": 25,
      "outputs": [
        {
          "output_type": "stream",
          "name": "stderr",
          "text": [
            "/usr/local/lib/python3.7/dist-packages/ipykernel_launcher.py:6: UserWarning: `Model.fit_generator` is deprecated and will be removed in a future version. Please use `Model.fit`, which supports generators.\n",
            "  \n"
          ]
        },
        {
          "output_type": "stream",
          "name": "stdout",
          "text": [
            "Epoch 1/10\n",
            "8/8 [==============================] - 6s 703ms/step - loss: 0.7090 - accuracy: 0.6094 - val_loss: 0.6834 - val_accuracy: 0.7500\n",
            "Epoch 2/10\n",
            "8/8 [==============================] - 6s 736ms/step - loss: 0.6804 - accuracy: 0.5547 - val_loss: 0.6651 - val_accuracy: 1.0000\n",
            "Epoch 3/10\n",
            "8/8 [==============================] - 5s 685ms/step - loss: 0.6124 - accuracy: 0.7266 - val_loss: 0.5095 - val_accuracy: 0.9062\n",
            "Epoch 4/10\n",
            "8/8 [==============================] - 6s 755ms/step - loss: 0.4209 - accuracy: 0.8203 - val_loss: 0.2225 - val_accuracy: 1.0000\n",
            "Epoch 5/10\n",
            "8/8 [==============================] - 6s 770ms/step - loss: 0.4872 - accuracy: 0.7969 - val_loss: 0.2326 - val_accuracy: 1.0000\n",
            "Epoch 6/10\n",
            "8/8 [==============================] - 6s 784ms/step - loss: 0.3845 - accuracy: 0.8828 - val_loss: 0.1642 - val_accuracy: 0.9688\n",
            "Epoch 7/10\n",
            "8/8 [==============================] - 6s 763ms/step - loss: 0.3069 - accuracy: 0.8672 - val_loss: 0.0346 - val_accuracy: 1.0000\n",
            "Epoch 8/10\n",
            "8/8 [==============================] - 6s 758ms/step - loss: 0.2350 - accuracy: 0.8906 - val_loss: 0.1394 - val_accuracy: 0.9688\n",
            "Epoch 9/10\n",
            "8/8 [==============================] - 5s 677ms/step - loss: 0.2402 - accuracy: 0.9062 - val_loss: 0.0537 - val_accuracy: 1.0000\n",
            "Epoch 10/10\n",
            "8/8 [==============================] - 6s 706ms/step - loss: 0.3193 - accuracy: 0.8594 - val_loss: 0.0402 - val_accuracy: 1.0000\n"
          ]
        }
      ]
    },
    {
      "cell_type": "code",
      "source": [
        "# Loss is very less\n",
        "\n",
        "model.evaluate_generator(train_generator)"
      ],
      "metadata": {
        "colab": {
          "base_uri": "https://localhost:8080/"
        },
        "id": "tJDTmQ9Q1XCg",
        "outputId": "4da609c0-4bea-458a-f67f-e269674fd7d2"
      },
      "execution_count": 26,
      "outputs": [
        {
          "output_type": "stream",
          "name": "stderr",
          "text": [
            "/usr/local/lib/python3.7/dist-packages/ipykernel_launcher.py:3: UserWarning: `Model.evaluate_generator` is deprecated and will be removed in a future version. Please use `Model.evaluate`, which supports generators.\n",
            "  This is separate from the ipykernel package so we can avoid doing imports until\n"
          ]
        },
        {
          "output_type": "execute_result",
          "data": {
            "text/plain": [
              "[0.14280788600444794, 0.9573863744735718]"
            ]
          },
          "metadata": {},
          "execution_count": 26
        }
      ]
    },
    {
      "cell_type": "code",
      "source": [
        "model.evaluate_generator(validation_generator)"
      ],
      "metadata": {
        "colab": {
          "base_uri": "https://localhost:8080/"
        },
        "id": "H9YDhghS1sK_",
        "outputId": "f93ad73f-961b-4022-9084-d20fef33e6bc"
      },
      "execution_count": 27,
      "outputs": [
        {
          "output_type": "stream",
          "name": "stderr",
          "text": [
            "/usr/local/lib/python3.7/dist-packages/ipykernel_launcher.py:1: UserWarning: `Model.evaluate_generator` is deprecated and will be removed in a future version. Please use `Model.evaluate`, which supports generators.\n",
            "  \"\"\"Entry point for launching an IPython kernel.\n"
          ]
        },
        {
          "output_type": "execute_result",
          "data": {
            "text/plain": [
              "[0.0755079984664917, 0.9750000238418579]"
            ]
          },
          "metadata": {},
          "execution_count": 27
        }
      ]
    },
    {
      "cell_type": "code",
      "source": [
        "# Test Images\n",
        "\n",
        "y_actual = []\n",
        "y_test = []"
      ],
      "metadata": {
        "id": "37qyU_cF2HC3"
      },
      "execution_count": 28,
      "outputs": []
    },
    {
      "cell_type": "code",
      "source": [
        "import os"
      ],
      "metadata": {
        "id": "EnvWRDKs2oaM"
      },
      "execution_count": 29,
      "outputs": []
    },
    {
      "cell_type": "code",
      "source": [
        "for i in os.listdir(\"/content/drive/MyDrive/CovidDataset/Val/Normal/\"):\n",
        "  img = image.load_img(\"/content/drive/MyDrive/CovidDataset/Val/Normal/\"+i, target_size=(224, 224))\n",
        "  img = image.img_to_array(img)\n",
        "  img = np.expand_dims(img, axis=0)\n",
        "  p = model.predict(img)\n",
        "  classes_x=np.argmax(p, axis=1)\n",
        "  y_test.append(p[0, 0])\n",
        "  y_actual.append(1)"
      ],
      "metadata": {
        "id": "H3sOBm7r2x_J"
      },
      "execution_count": 30,
      "outputs": []
    },
    {
      "cell_type": "code",
      "source": [
        "for i in os.listdir(\"/content/drive/MyDrive/CovidDataset/Val/Covid/\"):\n",
        "  img = image.load_img(\"/content/drive/MyDrive/CovidDataset/Val/Covid/\"+i, target_size=(224, 224))\n",
        "  img = image.img_to_array(img)\n",
        "  img = np.expand_dims(img, axis=0)\n",
        "  p = model.predict(img)\n",
        "  classes_x=np.argmax(p, axis=1)\n",
        "  y_test.append(p[0, 0])\n",
        "  y_actual.append(0)"
      ],
      "metadata": {
        "id": "8J37Tda34ZgS"
      },
      "execution_count": 31,
      "outputs": []
    },
    {
      "cell_type": "code",
      "source": [
        "y_actual = np.array(y_actual)\n",
        "y_test = np.array(y_test)"
      ],
      "metadata": {
        "id": "ppsoekoS4p2Y"
      },
      "execution_count": 32,
      "outputs": []
    },
    {
      "cell_type": "code",
      "source": [
        "from sklearn.metrics import confusion_matrix, classification_report"
      ],
      "metadata": {
        "id": "LVyw4tJL41o1"
      },
      "execution_count": 33,
      "outputs": []
    },
    {
      "cell_type": "code",
      "source": [
        "y_actual"
      ],
      "metadata": {
        "colab": {
          "base_uri": "https://localhost:8080/"
        },
        "id": "VSPD2LJH47t6",
        "outputId": "d73ce43d-e2e3-484d-9e29-854ab65f10a6"
      },
      "execution_count": 34,
      "outputs": [
        {
          "output_type": "execute_result",
          "data": {
            "text/plain": [
              "array([1, 1, 1, 1, 1, 1, 1, 1, 1, 1, 1, 1, 1, 1, 1, 1, 1, 1, 1, 1, 0, 0,\n",
              "       0, 0, 0, 0, 0, 0, 0, 0, 0, 0, 0, 0, 0, 0, 0, 0, 0, 0])"
            ]
          },
          "metadata": {},
          "execution_count": 34
        }
      ]
    },
    {
      "cell_type": "code",
      "source": [
        "y_test"
      ],
      "metadata": {
        "colab": {
          "base_uri": "https://localhost:8080/"
        },
        "id": "y84oJbuQ5N89",
        "outputId": "6a926ede-5b8f-4cc2-ad51-ef6c8dea10e8"
      },
      "execution_count": 35,
      "outputs": [
        {
          "output_type": "execute_result",
          "data": {
            "text/plain": [
              "array([1.000000e+00, 1.000000e+00, 1.000000e+00, 1.000000e+00,\n",
              "       1.000000e+00, 1.000000e+00, 1.000000e+00, 1.000000e+00,\n",
              "       1.000000e+00, 1.000000e+00, 1.000000e+00, 1.000000e+00,\n",
              "       1.000000e+00, 1.000000e+00, 1.000000e+00, 1.000000e+00,\n",
              "       1.000000e+00, 1.000000e+00, 1.000000e+00, 1.000000e+00,\n",
              "       0.000000e+00, 0.000000e+00, 0.000000e+00, 0.000000e+00,\n",
              "       0.000000e+00, 0.000000e+00, 0.000000e+00, 0.000000e+00,\n",
              "       0.000000e+00, 0.000000e+00, 0.000000e+00, 0.000000e+00,\n",
              "       0.000000e+00, 7.089619e-26, 0.000000e+00, 0.000000e+00,\n",
              "       0.000000e+00, 0.000000e+00, 0.000000e+00, 0.000000e+00],\n",
              "      dtype=float32)"
            ]
          },
          "metadata": {},
          "execution_count": 35
        }
      ]
    },
    {
      "cell_type": "code",
      "source": [
        "def cnn_evaluation(model, history, train_images, train_labels, test_images, test_labels, class_names, model_name=None):\n",
        "    \"\"\"\n",
        "    Evaluates the performance of a CNN with loss and accuracy plots, a confusion matrix and a classification report for the training and test sets.\n",
        "    \"\"\"\n",
        "    train_acc = history.history['accuracy']\n",
        "    val_acc = history.history['val_accuracy']\n",
        "    train_loss = history.history['loss']\n",
        "    val_loss = history.history['val_loss']\n",
        "    epch = range(1, len(train_acc) + 1)\n",
        "    plt.plot(epch, train_acc, 'g.', label='Training Accuracy')\n",
        "    plt.plot(epch, val_acc, 'g', label='Validation acc')\n",
        "    plt.title('Accuracy')\n",
        "    plt.legend()\n",
        "    plt.figure()\n",
        "    plt.plot(epch, train_loss, 'r.', label='Training loss')\n",
        "    plt.plot(epch, val_loss, 'r', label='Validation loss')\n",
        "    plt.title('Loss')\n",
        "    plt.legend()\n",
        "    plt.show()"
      ],
      "metadata": {
        "id": "hpfMWJiGVk2P"
      },
      "execution_count": 37,
      "outputs": []
    },
    {
      "cell_type": "code",
      "source": [
        "trainImagesX = '/content/drive/MyDrive/CovidDataset/Train/Covid'\n",
        "trainImagesY = '/content/drive/MyDrive/CovidDataset/Train/Normal'\n",
        "\n",
        "testImagesX = '/content/drive/MyDrive/CovidDataset/Val/Covid'\n",
        "testImagesY = '/content/drive/MyDrive/CovidDataset/Val/Normal'"
      ],
      "metadata": {
        "id": "MLoDdbUNVpfH"
      },
      "execution_count": 38,
      "outputs": []
    },
    {
      "cell_type": "code",
      "source": [
        "cnn_evaluation(model, hist, trainImagesX, trainImagesY, testImagesX, testImagesY, class_names=['covid', 'no findings'])"
      ],
      "metadata": {
        "colab": {
          "base_uri": "https://localhost:8080/",
          "height": 545
        },
        "id": "i8IgG0y4VtoO",
        "outputId": "be7a294e-9890-45b9-edd0-831cbaaa7b4e"
      },
      "execution_count": 39,
      "outputs": [
        {
          "output_type": "display_data",
          "data": {
            "image/png": "[encoded data removed]",
            "text/plain": [
              "<Figure size 432x288 with 1 Axes>"
            ]
          },
          "metadata": {
            "needs_background": "light"
          }
        },
        {
          "output_type": "display_data",
          "data": {
            "image/png": "[encoded data removed]",
            "text/plain": [
              "<Figure size 432x288 with 1 Axes>"
            ]
          },
          "metadata": {
            "needs_background": "light"
          }
        }
      ]
    }
  ]
}