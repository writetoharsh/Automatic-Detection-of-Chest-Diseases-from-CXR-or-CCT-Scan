{
  "nbformat": 4,
  "nbformat_minor": 0,
  "metadata": {
    "colab": {
      "name": "VGG16_Major_Project.ipynb",
      "provenance": [],
      "collapsed_sections": []
    },
    "kernelspec": {
      "name": "python3",
      "display_name": "Python 3"
    },
    "language_info": {
      "name": "python"
    },
    "accelerator": "GPU"
  },
  "cells": [
    {
      "cell_type": "code",
      "execution_count": 1,
      "metadata": {
        "id": "l9xBZPgkD9Ts"
      },
      "outputs": [],
      "source": [
        "TRAIN_PATH = \"/content/drive/MyDrive/CovidDataset/Train\" \n",
        "VAL_PATH = \"/content/drive/MyDrive/CovidDataset/Val\""
      ]
    },
    {
      "cell_type": "code",
      "source": [
        "import numpy as np\n",
        "import matplotlib.pyplot as plt\n",
        "import keras\n",
        "from keras.layers import *\n",
        "from keras.models import *\n",
        "from keras.preprocessing import image"
      ],
      "metadata": {
        "id": "UMKMAuJkFNST"
      },
      "execution_count": 2,
      "outputs": []
    },
    {
      "cell_type": "code",
      "source": [
        "# VGG16 Model in Keras\n",
        "\n",
        "model = Sequential()\n",
        "model.add(Conv2D(64, kernel_size=(3,3), activation='relu', input_shape=(224, 224, 3)))\n",
        "model.add(Conv2D(64, (3,3), activation='relu'))\n",
        "model.add(MaxPooling2D(pool_size=(2,2)))\n",
        "\n",
        "model.add(Conv2D(128, (3,3), activation='relu'))\n",
        "model.add(Conv2D(128, (3,3), activation='relu'))\n",
        "model.add(MaxPooling2D(pool_size=(2,2)))\n",
        "\n",
        "model.add(Conv2D(256, (3,3), activation='relu'))\n",
        "model.add(Conv2D(256, (3,3), activation='relu'))\n",
        "model.add(MaxPooling2D(pool_size=(2,2)))\n",
        "\n",
        "model.add(Conv2D(512, (3,3), activation='relu'))\n",
        "model.add(Conv2D(512, (3,3), activation='relu'))\n",
        "model.add(Conv2D(512, (3,3), activation='relu'))\n",
        "model.add(MaxPooling2D(pool_size=(2,2)))\n",
        "\n",
        "model.add(Conv2D(512, (3,3), activation='relu'))\n",
        "model.add(Conv2D(512, (3,3), activation='relu'))\n",
        "model.add(Conv2D(512, (3,3), activation='relu'))\n",
        "model.add(MaxPooling2D(pool_size=(2,2), strides=(7, 7)))\n",
        "\n",
        "model.add(Flatten())\n",
        "model.add(Dense(4096, activation='relu'))\n",
        "model.add(Dense(4096, activation='relu'))\n",
        "model.add(Dense(1000, activation='relu'))\n",
        "model.add(Dense(1, activation='softmax'))\n",
        "\n",
        "model.compile(loss=keras.losses.binary_crossentropy, optimizer='adam', metrics=['accuracy'])"
      ],
      "metadata": {
        "id": "_Nhtr7cYFQkJ"
      },
      "execution_count": 30,
      "outputs": []
    },
    {
      "cell_type": "code",
      "source": [
        "model.summary()"
      ],
      "metadata": {
        "colab": {
          "base_uri": "https://localhost:8080/"
        },
        "id": "qGt43AyvHtZ8",
        "outputId": "642c4732-d2ff-4bec-e26e-64dcf6683389"
      },
      "execution_count": 31,
      "outputs": [
        {
          "output_type": "stream",
          "name": "stdout",
          "text": [
            "Model: \"sequential_2\"\n",
            "_________________________________________________________________\n",
            " Layer (type)                Output Shape              Param #   \n",
            "=================================================================\n",
            " conv2d_24 (Conv2D)          (None, 222, 222, 64)      1792      \n",
            "                                                                 \n",
            " conv2d_25 (Conv2D)          (None, 220, 220, 64)      36928     \n",
            "                                                                 \n",
            " max_pooling2d_10 (MaxPoolin  (None, 110, 110, 64)     0         \n",
            " g2D)                                                            \n",
            "                                                                 \n",
            " conv2d_26 (Conv2D)          (None, 108, 108, 128)     73856     \n",
            "                                                                 \n",
            " conv2d_27 (Conv2D)          (None, 106, 106, 128)     147584    \n",
            "                                                                 \n",
            " max_pooling2d_11 (MaxPoolin  (None, 53, 53, 128)      0         \n",
            " g2D)                                                            \n",
            "                                                                 \n",
            " conv2d_28 (Conv2D)          (None, 51, 51, 256)       295168    \n",
            "                                                                 \n",
            " conv2d_29 (Conv2D)          (None, 49, 49, 256)       590080    \n",
            "                                                                 \n",
            " max_pooling2d_12 (MaxPoolin  (None, 24, 24, 256)      0         \n",
            " g2D)                                                            \n",
            "                                                                 \n",
            " conv2d_30 (Conv2D)          (None, 22, 22, 512)       1180160   \n",
            "                                                                 \n",
            " conv2d_31 (Conv2D)          (None, 20, 20, 512)       2359808   \n",
            "                                                                 \n",
            " conv2d_32 (Conv2D)          (None, 18, 18, 512)       2359808   \n",
            "                                                                 \n",
            " max_pooling2d_13 (MaxPoolin  (None, 9, 9, 512)        0         \n",
            " g2D)                                                            \n",
            "                                                                 \n",
            " conv2d_33 (Conv2D)          (None, 7, 7, 512)         2359808   \n",
            "                                                                 \n",
            " conv2d_34 (Conv2D)          (None, 5, 5, 512)         2359808   \n",
            "                                                                 \n",
            " conv2d_35 (Conv2D)          (None, 3, 3, 512)         2359808   \n",
            "                                                                 \n",
            " max_pooling2d_14 (MaxPoolin  (None, 1, 1, 512)        0         \n",
            " g2D)                                                            \n",
            "                                                                 \n",
            " flatten_1 (Flatten)         (None, 512)               0         \n",
            "                                                                 \n",
            " dense_6 (Dense)             (None, 4096)              2101248   \n",
            "                                                                 \n",
            " dense_7 (Dense)             (None, 4096)              16781312  \n",
            "                                                                 \n",
            " dense_8 (Dense)             (None, 1000)              4097000   \n",
            "                                                                 \n",
            " dense_9 (Dense)             (None, 1)                 1001      \n",
            "                                                                 \n",
            "=================================================================\n",
            "Total params: 37,105,169\n",
            "Trainable params: 37,105,169\n",
            "Non-trainable params: 0\n",
            "_________________________________________________________________\n"
          ]
        }
      ]
    },
    {
      "cell_type": "code",
      "source": [
        "# Train from scratch\n",
        "train_datagen = image.ImageDataGenerator(\n",
        "    rescale = 1./255,\n",
        "    shear_range = 0.2,\n",
        "    zoom_range = 0.2,\n",
        "    horizontal_flip = True\n",
        ")\n",
        "\n",
        "test_dataset = image.ImageDataGenerator(rescale=1./255)"
      ],
      "metadata": {
        "id": "E1hLnd75HxZu"
      },
      "execution_count": 32,
      "outputs": []
    },
    {
      "cell_type": "code",
      "source": [
        "train_generator = train_datagen.flow_from_directory(\n",
        "    '/content/drive/MyDrive/CovidDataset/Train',\n",
        "    target_size = (224, 224),\n",
        "    batch_size = 16,\n",
        "    class_mode = 'binary'\n",
        ")"
      ],
      "metadata": {
        "colab": {
          "base_uri": "https://localhost:8080/"
        },
        "id": "-z-3Dp1FH0eu",
        "outputId": "31e8f284-3987-41ff-873c-8bed273ba757"
      },
      "execution_count": 33,
      "outputs": [
        {
          "output_type": "stream",
          "name": "stdout",
          "text": [
            "Found 352 images belonging to 2 classes.\n"
          ]
        }
      ]
    },
    {
      "cell_type": "code",
      "source": [
        "train_generator.class_indices"
      ],
      "metadata": {
        "colab": {
          "base_uri": "https://localhost:8080/"
        },
        "id": "tQLkZ7ORH3M5",
        "outputId": "05014c92-e1a6-4c7d-d870-c4f15b356537"
      },
      "execution_count": 34,
      "outputs": [
        {
          "output_type": "execute_result",
          "data": {
            "text/plain": [
              "{'Covid': 0, 'Normal': 1}"
            ]
          },
          "metadata": {},
          "execution_count": 34
        }
      ]
    },
    {
      "cell_type": "code",
      "source": [
        "validation_generator = test_dataset.flow_from_directory(\n",
        "    '/content/drive/MyDrive/CovidDataset/Val',\n",
        "    target_size = (224, 224),\n",
        "    batch_size = 16,\n",
        "    class_mode = 'binary'\n",
        ")"
      ],
      "metadata": {
        "colab": {
          "base_uri": "https://localhost:8080/"
        },
        "id": "vXY--BSkH5qc",
        "outputId": "2682b0d5-3460-4719-bdf8-a9c84b340b77"
      },
      "execution_count": 35,
      "outputs": [
        {
          "output_type": "stream",
          "name": "stdout",
          "text": [
            "Found 40 images belonging to 2 classes.\n"
          ]
        }
      ]
    },
    {
      "cell_type": "code",
      "source": [
        "trainImagesX = '/content/drive/MyDrive/CovidDataset/Train/Covid'\n",
        "trainImagesY = '/content/drive/MyDrive/CovidDataset/Train/Normal'\n",
        "\n",
        "testImagesX = '/content/drive/MyDrive/CovidDataset/Val/Covid'\n",
        "testImagesY = '/content/drive/MyDrive/CovidDataset/Val/Normal'"
      ],
      "metadata": {
        "id": "VfDvgrqDIwLT"
      },
      "execution_count": 36,
      "outputs": []
    },
    {
      "cell_type": "code",
      "source": [
        "hist = model.fit_generator(\n",
        "    train_generator,\n",
        "    steps_per_epoch=8,\n",
        "    epochs=50,\n",
        "    validation_data = validation_generator,\n",
        "    validation_steps=2\n",
        ")"
      ],
      "metadata": {
        "colab": {
          "base_uri": "https://localhost:8080/"
        },
        "id": "vyJgu0GnJYkW",
        "outputId": "33d9f212-7724-496b-889a-900c7301a693"
      },
      "execution_count": 37,
      "outputs": [
        {
          "output_type": "stream",
          "name": "stderr",
          "text": [
            "/usr/local/lib/python3.7/dist-packages/ipykernel_launcher.py:6: UserWarning: `Model.fit_generator` is deprecated and will be removed in a future version. Please use `Model.fit`, which supports generators.\n",
            "  \n"
          ]
        },
        {
          "output_type": "stream",
          "name": "stdout",
          "text": [
            "Epoch 1/50\n",
            "8/8 [==============================] - 36s 2s/step - loss: 0.6971 - accuracy: 0.4922 - val_loss: 0.6920 - val_accuracy: 0.4688\n",
            "Epoch 2/50\n",
            "8/8 [==============================] - 7s 899ms/step - loss: 0.6937 - accuracy: 0.4844 - val_loss: 0.6913 - val_accuracy: 0.4688\n",
            "Epoch 3/50\n",
            "8/8 [==============================] - 8s 958ms/step - loss: 0.6927 - accuracy: 0.4609 - val_loss: 0.6956 - val_accuracy: 0.5000\n",
            "Epoch 4/50\n",
            "8/8 [==============================] - 8s 962ms/step - loss: 0.6920 - accuracy: 0.4688 - val_loss: 0.6985 - val_accuracy: 0.5312\n",
            "Epoch 5/50\n",
            "8/8 [==============================] - 8s 968ms/step - loss: 0.6959 - accuracy: 0.5078 - val_loss: 0.6932 - val_accuracy: 0.5000\n",
            "Epoch 6/50\n",
            "8/8 [==============================] - 7s 896ms/step - loss: 0.6941 - accuracy: 0.5391 - val_loss: 0.6931 - val_accuracy: 0.5000\n",
            "Epoch 7/50\n",
            "8/8 [==============================] - 8s 949ms/step - loss: 0.6935 - accuracy: 0.4922 - val_loss: 0.6932 - val_accuracy: 0.5000\n",
            "Epoch 8/50\n",
            "8/8 [==============================] - 8s 955ms/step - loss: 0.6932 - accuracy: 0.5078 - val_loss: 0.6928 - val_accuracy: 0.5312\n",
            "Epoch 9/50\n",
            "8/8 [==============================] - 8s 990ms/step - loss: 0.6935 - accuracy: 0.4844 - val_loss: 0.6931 - val_accuracy: 0.5000\n",
            "Epoch 10/50\n",
            "8/8 [==============================] - 8s 1s/step - loss: 0.6933 - accuracy: 0.4453 - val_loss: 0.6932 - val_accuracy: 0.5938\n",
            "Epoch 11/50\n",
            "8/8 [==============================] - 8s 942ms/step - loss: 0.6930 - accuracy: 0.4766 - val_loss: 0.6928 - val_accuracy: 0.4688\n",
            "Epoch 12/50\n",
            "8/8 [==============================] - 7s 915ms/step - loss: 0.6936 - accuracy: 0.5234 - val_loss: 0.6927 - val_accuracy: 0.4688\n",
            "Epoch 13/50\n",
            "8/8 [==============================] - 8s 940ms/step - loss: 0.6925 - accuracy: 0.4609 - val_loss: 0.6938 - val_accuracy: 0.5312\n",
            "Epoch 14/50\n",
            "8/8 [==============================] - 7s 888ms/step - loss: 0.6945 - accuracy: 0.5391 - val_loss: 0.6925 - val_accuracy: 0.4688\n",
            "Epoch 15/50\n",
            "8/8 [==============================] - 8s 966ms/step - loss: 0.6933 - accuracy: 0.4922 - val_loss: 0.6932 - val_accuracy: 0.5000\n",
            "Epoch 16/50\n",
            "8/8 [==============================] - 7s 922ms/step - loss: 0.6935 - accuracy: 0.5391 - val_loss: 0.6928 - val_accuracy: 0.4375\n",
            "Epoch 17/50\n",
            "8/8 [==============================] - 8s 978ms/step - loss: 0.6933 - accuracy: 0.5547 - val_loss: 0.6933 - val_accuracy: 0.4375\n",
            "Epoch 18/50\n",
            "8/8 [==============================] - 8s 945ms/step - loss: 0.6936 - accuracy: 0.4297 - val_loss: 0.6932 - val_accuracy: 0.4688\n",
            "Epoch 19/50\n",
            "8/8 [==============================] - 8s 960ms/step - loss: 0.6932 - accuracy: 0.5156 - val_loss: 0.6931 - val_accuracy: 0.5000\n",
            "Epoch 20/50\n",
            "8/8 [==============================] - 8s 923ms/step - loss: 0.6932 - accuracy: 0.4766 - val_loss: 0.6932 - val_accuracy: 0.5312\n",
            "Epoch 21/50\n",
            "8/8 [==============================] - 7s 933ms/step - loss: 0.6932 - accuracy: 0.5000 - val_loss: 0.6931 - val_accuracy: 0.4688\n",
            "Epoch 22/50\n",
            "8/8 [==============================] - 8s 966ms/step - loss: 0.6931 - accuracy: 0.4688 - val_loss: 0.6929 - val_accuracy: 0.4688\n",
            "Epoch 23/50\n",
            "8/8 [==============================] - 8s 946ms/step - loss: 0.6932 - accuracy: 0.5000 - val_loss: 0.6929 - val_accuracy: 0.4688\n",
            "Epoch 24/50\n",
            "8/8 [==============================] - 7s 887ms/step - loss: 0.6932 - accuracy: 0.5000 - val_loss: 0.6936 - val_accuracy: 0.5625\n",
            "Epoch 25/50\n",
            "8/8 [==============================] - 7s 889ms/step - loss: 0.6929 - accuracy: 0.4688 - val_loss: 0.6932 - val_accuracy: 0.5000\n",
            "Epoch 26/50\n",
            "8/8 [==============================] - 7s 901ms/step - loss: 0.6926 - accuracy: 0.4453 - val_loss: 0.6932 - val_accuracy: 0.5000\n",
            "Epoch 27/50\n",
            "8/8 [==============================] - 7s 889ms/step - loss: 0.6938 - accuracy: 0.5391 - val_loss: 0.6917 - val_accuracy: 0.4062\n",
            "Epoch 28/50\n",
            "8/8 [==============================] - 8s 952ms/step - loss: 0.6927 - accuracy: 0.4688 - val_loss: 0.6942 - val_accuracy: 0.5625\n",
            "Epoch 29/50\n",
            "8/8 [==============================] - 8s 941ms/step - loss: 0.6933 - accuracy: 0.5000 - val_loss: 0.6944 - val_accuracy: 0.5625\n",
            "Epoch 30/50\n",
            "8/8 [==============================] - 8s 972ms/step - loss: 0.6924 - accuracy: 0.4609 - val_loss: 0.6932 - val_accuracy: 0.5000\n",
            "Epoch 31/50\n",
            "8/8 [==============================] - 7s 915ms/step - loss: 0.6938 - accuracy: 0.5234 - val_loss: 0.6918 - val_accuracy: 0.4375\n",
            "Epoch 32/50\n",
            "8/8 [==============================] - 7s 913ms/step - loss: 0.6922 - accuracy: 0.4531 - val_loss: 0.6918 - val_accuracy: 0.4375\n",
            "Epoch 33/50\n",
            "8/8 [==============================] - 7s 905ms/step - loss: 0.6921 - accuracy: 0.4531 - val_loss: 0.6924 - val_accuracy: 0.4688\n",
            "Epoch 34/50\n",
            "8/8 [==============================] - 8s 959ms/step - loss: 0.6943 - accuracy: 0.5312 - val_loss: 0.6962 - val_accuracy: 0.5938\n",
            "Epoch 35/50\n",
            "8/8 [==============================] - 8s 941ms/step - loss: 0.6941 - accuracy: 0.5312 - val_loss: 0.6925 - val_accuracy: 0.4688\n",
            "Epoch 36/50\n",
            "8/8 [==============================] - 8s 918ms/step - loss: 0.6933 - accuracy: 0.5000 - val_loss: 0.6926 - val_accuracy: 0.4688\n",
            "Epoch 37/50\n",
            "8/8 [==============================] - 8s 965ms/step - loss: 0.6931 - accuracy: 0.4922 - val_loss: 0.6937 - val_accuracy: 0.5312\n",
            "Epoch 38/50\n",
            "8/8 [==============================] - 7s 916ms/step - loss: 0.6941 - accuracy: 0.5625 - val_loss: 0.6932 - val_accuracy: 0.5000\n",
            "Epoch 39/50\n",
            "8/8 [==============================] - 7s 889ms/step - loss: 0.6934 - accuracy: 0.5156 - val_loss: 0.6933 - val_accuracy: 0.5312\n",
            "Epoch 40/50\n",
            "8/8 [==============================] - 7s 922ms/step - loss: 0.6933 - accuracy: 0.5234 - val_loss: 0.6930 - val_accuracy: 0.4688\n",
            "Epoch 41/50\n",
            "8/8 [==============================] - 8s 955ms/step - loss: 0.6931 - accuracy: 0.4766 - val_loss: 0.6931 - val_accuracy: 0.5000\n",
            "Epoch 42/50\n",
            "8/8 [==============================] - 8s 908ms/step - loss: 0.6932 - accuracy: 0.5078 - val_loss: 0.6930 - val_accuracy: 0.4688\n",
            "Epoch 43/50\n",
            "8/8 [==============================] - 8s 933ms/step - loss: 0.6932 - accuracy: 0.5000 - val_loss: 0.6934 - val_accuracy: 0.5938\n",
            "Epoch 44/50\n",
            "8/8 [==============================] - 8s 935ms/step - loss: 0.6932 - accuracy: 0.5000 - val_loss: 0.6931 - val_accuracy: 0.5000\n",
            "Epoch 45/50\n",
            "8/8 [==============================] - 7s 921ms/step - loss: 0.6931 - accuracy: 0.4688 - val_loss: 0.6929 - val_accuracy: 0.4375\n",
            "Epoch 46/50\n",
            "8/8 [==============================] - 8s 959ms/step - loss: 0.6930 - accuracy: 0.4688 - val_loss: 0.6932 - val_accuracy: 0.5000\n",
            "Epoch 47/50\n",
            "8/8 [==============================] - 8s 989ms/step - loss: 0.6926 - accuracy: 0.4375 - val_loss: 0.6922 - val_accuracy: 0.4062\n",
            "Epoch 48/50\n",
            "8/8 [==============================] - 8s 947ms/step - loss: 0.6931 - accuracy: 0.5000 - val_loss: 0.6932 - val_accuracy: 0.5000\n",
            "Epoch 49/50\n",
            "8/8 [==============================] - 7s 917ms/step - loss: 0.6932 - accuracy: 0.5000 - val_loss: 0.6937 - val_accuracy: 0.5312\n",
            "Epoch 50/50\n",
            "8/8 [==============================] - 7s 882ms/step - loss: 0.6939 - accuracy: 0.5469 - val_loss: 0.6927 - val_accuracy: 0.4688\n"
          ]
        }
      ]
    },
    {
      "cell_type": "code",
      "source": [
        "# Loss is very high\n",
        "\n",
        "model.evaluate_generator(train_generator)"
      ],
      "metadata": {
        "colab": {
          "base_uri": "https://localhost:8080/"
        },
        "id": "t84k-6tKNBMZ",
        "outputId": "9a8d0935-06ed-4f7f-b4fc-5b326198143e"
      },
      "execution_count": 38,
      "outputs": [
        {
          "output_type": "stream",
          "name": "stderr",
          "text": [
            "/usr/local/lib/python3.7/dist-packages/ipykernel_launcher.py:3: UserWarning: `Model.evaluate_generator` is deprecated and will be removed in a future version. Please use `Model.evaluate`, which supports generators.\n",
            "  This is separate from the ipykernel package so we can avoid doing imports until\n"
          ]
        },
        {
          "output_type": "execute_result",
          "data": {
            "text/plain": [
              "[0.6931731700897217, 0.5]"
            ]
          },
          "metadata": {},
          "execution_count": 38
        }
      ]
    },
    {
      "cell_type": "code",
      "source": [
        "model.evaluate_generator(validation_generator)"
      ],
      "metadata": {
        "colab": {
          "base_uri": "https://localhost:8080/"
        },
        "id": "XBkYPeXxNUQA",
        "outputId": "114aedda-7e75-4ef7-9ca2-3d1ef33e8bb0"
      },
      "execution_count": 39,
      "outputs": [
        {
          "output_type": "stream",
          "name": "stderr",
          "text": [
            "/usr/local/lib/python3.7/dist-packages/ipykernel_launcher.py:1: UserWarning: `Model.evaluate_generator` is deprecated and will be removed in a future version. Please use `Model.evaluate`, which supports generators.\n",
            "  \"\"\"Entry point for launching an IPython kernel.\n"
          ]
        },
        {
          "output_type": "execute_result",
          "data": {
            "text/plain": [
              "[0.6931731700897217, 0.5]"
            ]
          },
          "metadata": {},
          "execution_count": 39
        }
      ]
    },
    {
      "cell_type": "code",
      "source": [
        "# Test Images\n",
        "\n",
        "y_actual = []\n",
        "y_test = []"
      ],
      "metadata": {
        "id": "QWd1nZ2tNY5V"
      },
      "execution_count": 40,
      "outputs": []
    },
    {
      "cell_type": "code",
      "source": [
        "import os"
      ],
      "metadata": {
        "id": "hmmysAnUNbZa"
      },
      "execution_count": 41,
      "outputs": []
    },
    {
      "cell_type": "code",
      "source": [
        "for i in os.listdir(\"/content/drive/MyDrive/CovidDataset/Val/Normal/\"):\n",
        "  img = image.load_img(\"/content/drive/MyDrive/CovidDataset/Val/Normal/\"+i, target_size=(224, 224))\n",
        "  img = image.img_to_array(img)\n",
        "  img = np.expand_dims(img, axis=0)\n",
        "  p = model.predict(img)\n",
        "  classes_x=np.argmax(p, axis=1)\n",
        "  y_test.append(p[0, 0])\n",
        "  y_actual.append(1)"
      ],
      "metadata": {
        "id": "8Cx3b2S6NypC"
      },
      "execution_count": 42,
      "outputs": []
    },
    {
      "cell_type": "code",
      "source": [
        "for i in os.listdir(\"/content/drive/MyDrive/CovidDataset/Val/Covid/\"):\n",
        "  img = image.load_img(\"/content/drive/MyDrive/CovidDataset/Val/Covid/\"+i, target_size=(224, 224))\n",
        "  img = image.img_to_array(img)\n",
        "  img = np.expand_dims(img, axis=0)\n",
        "  p = model.predict(img)\n",
        "  classes_x=np.argmax(p, axis=1)\n",
        "  y_test.append(p[0, 0])\n",
        "  y_actual.append(0)"
      ],
      "metadata": {
        "id": "Zwrw_8ejN2iU"
      },
      "execution_count": 43,
      "outputs": []
    },
    {
      "cell_type": "code",
      "source": [
        "y_actual = np.array(y_actual)\n",
        "y_test = np.array(y_test)"
      ],
      "metadata": {
        "id": "24sqjvQcN7Hr"
      },
      "execution_count": 44,
      "outputs": []
    },
    {
      "cell_type": "code",
      "source": [
        "y_actual"
      ],
      "metadata": {
        "colab": {
          "base_uri": "https://localhost:8080/"
        },
        "id": "uukOLmNjN8YU",
        "outputId": "35e7efaa-160e-4a91-ccbf-b8ff4799b6d7"
      },
      "execution_count": 45,
      "outputs": [
        {
          "output_type": "execute_result",
          "data": {
            "text/plain": [
              "array([1, 1, 1, 1, 1, 1, 1, 1, 1, 1, 1, 1, 1, 1, 1, 1, 1, 1, 1, 1, 0, 0,\n",
              "       0, 0, 0, 0, 0, 0, 0, 0, 0, 0, 0, 0, 0, 0, 0, 0, 0, 0])"
            ]
          },
          "metadata": {},
          "execution_count": 45
        }
      ]
    },
    {
      "cell_type": "code",
      "source": [
        "y_test"
      ],
      "metadata": {
        "colab": {
          "base_uri": "https://localhost:8080/"
        },
        "id": "JaSHOlJpN_XO",
        "outputId": "1de4cde2-dad6-4626-f4bb-32aeae4e2c6c"
      },
      "execution_count": 46,
      "outputs": [
        {
          "output_type": "execute_result",
          "data": {
            "text/plain": [
              "array([1., 1., 1., 1., 1., 1., 1., 1., 1., 1., 1., 1., 1., 1., 1., 1., 1.,\n",
              "       1., 1., 1., 1., 1., 1., 1., 1., 1., 1., 1., 1., 1., 1., 1., 1., 1.,\n",
              "       1., 1., 1., 1., 1., 1.], dtype=float32)"
            ]
          },
          "metadata": {},
          "execution_count": 46
        }
      ]
    },
    {
      "cell_type": "code",
      "source": [
        "from sklearn.metrics import confusion_matrix"
      ],
      "metadata": {
        "id": "riW9Viw3OD9Y"
      },
      "execution_count": 48,
      "outputs": []
    },
    {
      "cell_type": "code",
      "source": [
        "cm = confusion_matrix(y_actual, y_test)"
      ],
      "metadata": {
        "id": "Sbc-CArnOBON"
      },
      "execution_count": 49,
      "outputs": []
    },
    {
      "cell_type": "code",
      "source": [
        "import matplotlib.pyplot as plt\n",
        "%matplotlib inline\n",
        "\n",
        "import seaborn as sns"
      ],
      "metadata": {
        "id": "jQO_gXZnOPa_"
      },
      "execution_count": 50,
      "outputs": []
    },
    {
      "cell_type": "code",
      "source": [
        "sns.heatmap(cm, cmap=\"plasma\", annot=True)"
      ],
      "metadata": {
        "colab": {
          "base_uri": "https://localhost:8080/",
          "height": 286
        },
        "id": "4zYoKWmWOVz6",
        "outputId": "1b078dd3-eb62-42a8-8a98-753d7b06f704"
      },
      "execution_count": 53,
      "outputs": [
        {
          "output_type": "execute_result",
          "data": {
            "text/plain": [
              "<matplotlib.axes._subplots.AxesSubplot at 0x7f82c518db90>"
            ]
          },
          "metadata": {},
          "execution_count": 53
        },
        {
          "output_type": "display_data",
          "data": {
            "image/png": "[encoded data removed]",
            "text/plain": [
              "<Figure size 432x288 with 2 Axes>"
            ]
          },
          "metadata": {
            "needs_background": "light"
          }
        }
      ]
    },
    {
      "cell_type": "code",
      "source": [
        "def cnn_evaluation(model, history, train_images, train_labels, test_images, test_labels, class_names, model_name=None):\n",
        "    \"\"\"\n",
        "    Evaluates the performance of a CNN with loss and accuracy plots, a confusion matrix and a classification report for the training and test sets.\n",
        "    \"\"\"\n",
        "    train_acc = history.history['accuracy']\n",
        "    val_acc = history.history['val_accuracy']\n",
        "    train_loss = history.history['loss']\n",
        "    val_loss = history.history['val_loss']\n",
        "    epch = range(1, len(train_acc) + 1)\n",
        "    plt.plot(epch, train_acc, 'g.', label='Training Accuracy')\n",
        "    plt.plot(epch, val_acc, 'g', label='Validation acc')\n",
        "    plt.title('Accuracy')\n",
        "    plt.legend()\n",
        "    plt.figure()\n",
        "    plt.plot(epch, train_loss, 'r.', label='Training loss')\n",
        "    plt.plot(epch, val_loss, 'r', label='Validation loss')\n",
        "    plt.title('Loss')\n",
        "    plt.legend()\n",
        "    plt.show()"
      ],
      "metadata": {
        "id": "rJWcNB7IOmz1"
      },
      "execution_count": 54,
      "outputs": []
    },
    {
      "cell_type": "code",
      "source": [
        "cnn_evaluation(model, hist, trainImagesX, trainImagesY, testImagesX, testImagesY, class_names=['covid', 'no findings'])"
      ],
      "metadata": {
        "colab": {
          "base_uri": "https://localhost:8080/",
          "height": 545
        },
        "id": "xVlbad9KOqQ_",
        "outputId": "4bdb18ac-ff97-48cb-dc5b-80c05048da5f"
      },
      "execution_count": 55,
      "outputs": [
        {
          "output_type": "display_data",
          "data": {
            "image/png": "[encoded data removed]",
            "text/plain": [
              "<Figure size 432x288 with 1 Axes>"
            ]
          },
          "metadata": {
            "needs_background": "light"
          }
        },
        {
          "output_type": "display_data",
          "data": {
            "image/png": "[encoded data removed]",
            "text/plain": [
              "<Figure size 432x288 with 1 Axes>"
            ]
          },
          "metadata": {
            "needs_background": "light"
          }
        }
      ]
    }
  ]
}