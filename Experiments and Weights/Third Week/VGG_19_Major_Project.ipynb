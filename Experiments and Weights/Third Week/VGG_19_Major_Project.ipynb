{
  "nbformat": 4,
  "nbformat_minor": 0,
  "metadata": {
    "colab": {
      "name": "VGG_19_Major_Project.ipynb",
      "provenance": [],
      "collapsed_sections": []
    },
    "kernelspec": {
      "name": "python3",
      "display_name": "Python 3"
    },
    "language_info": {
      "name": "python"
    },
    "accelerator": "GPU"
  },
  "cells": [
    {
      "cell_type": "code",
      "source": [
        "import tensorflow as tf"
      ],
      "metadata": {
        "id": "9Pc7TnGvs4jX"
      },
      "execution_count": 1,
      "outputs": []
    },
    {
      "cell_type": "code",
      "source": [
        "#Some Basic Imports\n",
        "\n",
        "from numpy import loadtxt\n",
        "from keras.models import Sequential\n",
        "from keras.layers import Dense,Input\n",
        "import pandas as pd\n",
        "from sklearn.model_selection import train_test_split\n",
        "import pandas as pd\n",
        "import numpy as np\n",
        "\n",
        "from scipy.spatial import cKDTree\n",
        "np.random.seed(123)\n",
        "\n",
        "import urllib, os\n",
        "import matplotlib.pyplot as plt\n",
        "%matplotlib inline\n",
        "import datetime\n",
        "\n",
        "from sklearn.preprocessing import LabelBinarizer\n",
        "import glob\n",
        "import cv2\n",
        "from tensorflow.keras.layers import Input, Conv2D, BatchNormalization, Dense\n",
        "from tensorflow.keras.layers import AvgPool2D, GlobalAveragePooling2D, MaxPool2D\n",
        "from tensorflow.keras.models import Model\n",
        "from tensorflow.keras.layers import ReLU, concatenate\n",
        "import tensorflow.keras.backend as K\n",
        "from keras.models import Sequential, Model\n",
        "from tensorflow.keras.layers import BatchNormalization\n",
        "from keras.layers.convolutional import Conv2D, MaxPooling2D\n",
        "from keras.layers.core import Activation, Dropout, Dense\n",
        "from keras.layers import Flatten, Input, concatenate\n",
        "\n",
        "from sklearn.model_selection import train_test_split\n",
        "from tensorflow.keras.optimizers import Adam, RMSprop\n",
        "import argparse\n",
        "import locale\n",
        "from keras.models import load_model\n",
        "from sklearn.datasets import load_files   \n",
        "from keras.utils import np_utils\n",
        "from glob import glob\n",
        "from keras import applications\n",
        "from keras.preprocessing.image import ImageDataGenerator \n",
        "from keras import optimizers\n",
        "from keras.models import Sequential,Model,load_model\n",
        "from keras.layers import Dense, Dropout, Flatten, Conv2D, MaxPool2D,GlobalAveragePooling2D\n",
        "from keras.callbacks import TensorBoard,ReduceLROnPlateau,ModelCheckpoint\n",
        "from keras.preprocessing.image import ImageDataGenerator\n",
        "from sklearn.metrics import confusion_matrix, classification_report\n",
        "import itertools\n",
        "from keras import regularizers\n",
        "from IPython.display import SVG\n",
        "from keras.utils.vis_utils import model_to_dot\n",
        "from keras.utils.vis_utils import plot_model\n",
        "from keras.models import load_model\n",
        "import matplotlib.pyplot as plt #For Visualization\n",
        "import numpy as np              #For handling arrays\n",
        "import pandas as pd             # For handling data\n",
        "import tensorflow as tf\n",
        "gpu_devices = tf.config.experimental.list_physical_devices('GPU')\n",
        "for device in gpu_devices: tf.config.experimental.set_memory_growth(device, True)"
      ],
      "metadata": {
        "id": "OpgO4iMQuVpd"
      },
      "execution_count": 2,
      "outputs": []
    },
    {
      "cell_type": "code",
      "source": [
        "TRAIN_PATH = \"/content/drive/MyDrive/CovidDataset/Train\" \n",
        "VAL_PATH = \"/content/drive/MyDrive/CovidDataset/Val\""
      ],
      "metadata": {
        "id": "VkLm_T13vL3s"
      },
      "execution_count": 3,
      "outputs": []
    },
    {
      "cell_type": "code",
      "source": [
        "from keras.preprocessing import image"
      ],
      "metadata": {
        "id": "TvFQMgRBv9UL"
      },
      "execution_count": 4,
      "outputs": []
    },
    {
      "cell_type": "code",
      "source": [
        "# Train from scratch\n",
        "train_datagen = image.ImageDataGenerator(\n",
        "    rescale = 1./255,\n",
        "    shear_range = 0.2,\n",
        "    zoom_range = 0.2,\n",
        "    horizontal_flip = True\n",
        ")\n",
        "\n",
        "test_dataset = image.ImageDataGenerator(rescale=1./255)"
      ],
      "metadata": {
        "id": "emFkd62ovrAN"
      },
      "execution_count": 5,
      "outputs": []
    },
    {
      "cell_type": "code",
      "source": [
        "train_generator = train_datagen.flow_from_directory(\n",
        "    '/content/drive/MyDrive/CovidDataset/Train',\n",
        "    target_size = (224, 224),\n",
        "    batch_size = 16,\n",
        "    class_mode = 'binary'\n",
        ")"
      ],
      "metadata": {
        "colab": {
          "base_uri": "https://localhost:8080/"
        },
        "id": "sfBKNKFRwQn0",
        "outputId": "db08958e-c559-41c7-dd8e-e6132d21185a"
      },
      "execution_count": 6,
      "outputs": [
        {
          "output_type": "stream",
          "name": "stdout",
          "text": [
            "Found 352 images belonging to 2 classes.\n"
          ]
        }
      ]
    },
    {
      "cell_type": "code",
      "source": [
        "train_generator.class_indices"
      ],
      "metadata": {
        "colab": {
          "base_uri": "https://localhost:8080/"
        },
        "id": "RJzUUmk3wVR6",
        "outputId": "da493943-0b02-4b17-ef3b-cbce2810a401"
      },
      "execution_count": 7,
      "outputs": [
        {
          "output_type": "execute_result",
          "data": {
            "text/plain": [
              "{'Covid': 0, 'Normal': 1}"
            ]
          },
          "metadata": {},
          "execution_count": 7
        }
      ]
    },
    {
      "cell_type": "code",
      "source": [
        "validation_generator = test_dataset.flow_from_directory(\n",
        "    '/content/drive/MyDrive/CovidDataset/Val',\n",
        "    target_size = (224, 224),\n",
        "    batch_size = 16,\n",
        "    class_mode = 'binary'\n",
        ")"
      ],
      "metadata": {
        "colab": {
          "base_uri": "https://localhost:8080/"
        },
        "id": "k90CYQkJwbf3",
        "outputId": "1b7f80cb-bca0-4c94-9870-1f85a790374a"
      },
      "execution_count": 8,
      "outputs": [
        {
          "output_type": "stream",
          "name": "stdout",
          "text": [
            "Found 40 images belonging to 2 classes.\n"
          ]
        }
      ]
    },
    {
      "cell_type": "code",
      "source": [
        "img_height,img_width = 224,224 \n",
        "num_classes = 2\n",
        "\n",
        "#If imagenet weights are being loaded, \n",
        "#Input must have a static square shape (one of (128, 128), (160, 160), (192, 192), or (224, 224))\n",
        "base_model = applications.vgg19.VGG19(weights= 'imagenet', include_top=True, input_shape= (img_height,img_width,3))"
      ],
      "metadata": {
        "id": "4LjgaSs-weZM"
      },
      "execution_count": 9,
      "outputs": []
    },
    {
      "cell_type": "code",
      "source": [
        "x = base_model.output\n",
        "predictions = Dense(1, activation= 'sigmoid')(x)\n",
        "model = Model(inputs = base_model.input, outputs = predictions)\n",
        "model.summary()"
      ],
      "metadata": {
        "colab": {
          "base_uri": "https://localhost:8080/"
        },
        "id": "wKyJqLHC4uhI",
        "outputId": "a798fd82-f80b-4ebf-bc07-d46f45d6b022"
      },
      "execution_count": 10,
      "outputs": [
        {
          "output_type": "stream",
          "name": "stdout",
          "text": [
            "Model: \"model\"\n",
            "_________________________________________________________________\n",
            " Layer (type)                Output Shape              Param #   \n",
            "=================================================================\n",
            " input_1 (InputLayer)        [(None, 224, 224, 3)]     0         \n",
            "                                                                 \n",
            " block1_conv1 (Conv2D)       (None, 224, 224, 64)      1792      \n",
            "                                                                 \n",
            " block1_conv2 (Conv2D)       (None, 224, 224, 64)      36928     \n",
            "                                                                 \n",
            " block1_pool (MaxPooling2D)  (None, 112, 112, 64)      0         \n",
            "                                                                 \n",
            " block2_conv1 (Conv2D)       (None, 112, 112, 128)     73856     \n",
            "                                                                 \n",
            " block2_conv2 (Conv2D)       (None, 112, 112, 128)     147584    \n",
            "                                                                 \n",
            " block2_pool (MaxPooling2D)  (None, 56, 56, 128)       0         \n",
            "                                                                 \n",
            " block3_conv1 (Conv2D)       (None, 56, 56, 256)       295168    \n",
            "                                                                 \n",
            " block3_conv2 (Conv2D)       (None, 56, 56, 256)       590080    \n",
            "                                                                 \n",
            " block3_conv3 (Conv2D)       (None, 56, 56, 256)       590080    \n",
            "                                                                 \n",
            " block3_conv4 (Conv2D)       (None, 56, 56, 256)       590080    \n",
            "                                                                 \n",
            " block3_pool (MaxPooling2D)  (None, 28, 28, 256)       0         \n",
            "                                                                 \n",
            " block4_conv1 (Conv2D)       (None, 28, 28, 512)       1180160   \n",
            "                                                                 \n",
            " block4_conv2 (Conv2D)       (None, 28, 28, 512)       2359808   \n",
            "                                                                 \n",
            " block4_conv3 (Conv2D)       (None, 28, 28, 512)       2359808   \n",
            "                                                                 \n",
            " block4_conv4 (Conv2D)       (None, 28, 28, 512)       2359808   \n",
            "                                                                 \n",
            " block4_pool (MaxPooling2D)  (None, 14, 14, 512)       0         \n",
            "                                                                 \n",
            " block5_conv1 (Conv2D)       (None, 14, 14, 512)       2359808   \n",
            "                                                                 \n",
            " block5_conv2 (Conv2D)       (None, 14, 14, 512)       2359808   \n",
            "                                                                 \n",
            " block5_conv3 (Conv2D)       (None, 14, 14, 512)       2359808   \n",
            "                                                                 \n",
            " block5_conv4 (Conv2D)       (None, 14, 14, 512)       2359808   \n",
            "                                                                 \n",
            " block5_pool (MaxPooling2D)  (None, 7, 7, 512)         0         \n",
            "                                                                 \n",
            " flatten (Flatten)           (None, 25088)             0         \n",
            "                                                                 \n",
            " fc1 (Dense)                 (None, 4096)              102764544 \n",
            "                                                                 \n",
            " fc2 (Dense)                 (None, 4096)              16781312  \n",
            "                                                                 \n",
            " predictions (Dense)         (None, 1000)              4097000   \n",
            "                                                                 \n",
            " dense (Dense)               (None, 1)                 1001      \n",
            "                                                                 \n",
            "=================================================================\n",
            "Total params: 143,668,241\n",
            "Trainable params: 143,668,241\n",
            "Non-trainable params: 0\n",
            "_________________________________________________________________\n"
          ]
        }
      ]
    },
    {
      "cell_type": "code",
      "source": [
        "from tensorflow.keras.models import Sequential\n",
        "from tensorflow.keras.layers import Dense,Conv2D,Flatten,MaxPooling2D\n",
        "from tensorflow.keras.callbacks import EarlyStopping,ReduceLROnPlateau\n",
        "\n",
        "early = EarlyStopping(monitor=\"val_loss\", mode=\"min\", patience=4)\n",
        "learning_rate_reduction = ReduceLROnPlateau(monitor='val_loss', patience = 3, verbose=1,factor=0.3, min_lr=0.000001)\n",
        "callbacks_list = [ early, learning_rate_reduction]"
      ],
      "metadata": {
        "id": "RCr5eh1Z1pVz"
      },
      "execution_count": 11,
      "outputs": []
    },
    {
      "cell_type": "code",
      "source": [
        "from tensorflow.keras.optimizers import Adam, RMSprop\n",
        "opt = Adam(lr=1e-3, decay=1e-3 / 200)\n",
        "model.compile(loss=\"binary_crossentropy\", metrics=['acc'], optimizer=opt)\n",
        "model.summary()"
      ],
      "metadata": {
        "colab": {
          "base_uri": "https://localhost:8080/"
        },
        "id": "KsVuTg6J18SW",
        "outputId": "2dcb0379-f7a3-4993-8de9-ea362791458a"
      },
      "execution_count": 12,
      "outputs": [
        {
          "output_type": "stream",
          "name": "stdout",
          "text": [
            "Model: \"model\"\n",
            "_________________________________________________________________\n",
            " Layer (type)                Output Shape              Param #   \n",
            "=================================================================\n",
            " input_1 (InputLayer)        [(None, 224, 224, 3)]     0         \n",
            "                                                                 \n",
            " block1_conv1 (Conv2D)       (None, 224, 224, 64)      1792      \n",
            "                                                                 \n",
            " block1_conv2 (Conv2D)       (None, 224, 224, 64)      36928     \n",
            "                                                                 \n",
            " block1_pool (MaxPooling2D)  (None, 112, 112, 64)      0         \n",
            "                                                                 \n",
            " block2_conv1 (Conv2D)       (None, 112, 112, 128)     73856     \n",
            "                                                                 \n",
            " block2_conv2 (Conv2D)       (None, 112, 112, 128)     147584    \n",
            "                                                                 \n",
            " block2_pool (MaxPooling2D)  (None, 56, 56, 128)       0         \n",
            "                                                                 \n",
            " block3_conv1 (Conv2D)       (None, 56, 56, 256)       295168    \n",
            "                                                                 \n",
            " block3_conv2 (Conv2D)       (None, 56, 56, 256)       590080    \n",
            "                                                                 \n",
            " block3_conv3 (Conv2D)       (None, 56, 56, 256)       590080    \n",
            "                                                                 \n",
            " block3_conv4 (Conv2D)       (None, 56, 56, 256)       590080    \n",
            "                                                                 \n",
            " block3_pool (MaxPooling2D)  (None, 28, 28, 256)       0         \n",
            "                                                                 \n",
            " block4_conv1 (Conv2D)       (None, 28, 28, 512)       1180160   \n",
            "                                                                 \n",
            " block4_conv2 (Conv2D)       (None, 28, 28, 512)       2359808   \n",
            "                                                                 \n",
            " block4_conv3 (Conv2D)       (None, 28, 28, 512)       2359808   \n",
            "                                                                 \n",
            " block4_conv4 (Conv2D)       (None, 28, 28, 512)       2359808   \n",
            "                                                                 \n",
            " block4_pool (MaxPooling2D)  (None, 14, 14, 512)       0         \n",
            "                                                                 \n",
            " block5_conv1 (Conv2D)       (None, 14, 14, 512)       2359808   \n",
            "                                                                 \n",
            " block5_conv2 (Conv2D)       (None, 14, 14, 512)       2359808   \n",
            "                                                                 \n",
            " block5_conv3 (Conv2D)       (None, 14, 14, 512)       2359808   \n",
            "                                                                 \n",
            " block5_conv4 (Conv2D)       (None, 14, 14, 512)       2359808   \n",
            "                                                                 \n",
            " block5_pool (MaxPooling2D)  (None, 7, 7, 512)         0         \n",
            "                                                                 \n",
            " flatten (Flatten)           (None, 25088)             0         \n",
            "                                                                 \n",
            " fc1 (Dense)                 (None, 4096)              102764544 \n",
            "                                                                 \n",
            " fc2 (Dense)                 (None, 4096)              16781312  \n",
            "                                                                 \n",
            " predictions (Dense)         (None, 1000)              4097000   \n",
            "                                                                 \n",
            " dense (Dense)               (None, 1)                 1001      \n",
            "                                                                 \n",
            "=================================================================\n",
            "Total params: 143,668,241\n",
            "Trainable params: 143,668,241\n",
            "Non-trainable params: 0\n",
            "_________________________________________________________________\n"
          ]
        },
        {
          "output_type": "stream",
          "name": "stderr",
          "text": [
            "/usr/local/lib/python3.7/dist-packages/keras/optimizer_v2/adam.py:105: UserWarning: The `lr` argument is deprecated, use `learning_rate` instead.\n",
            "  super(Adam, self).__init__(name, **kwargs)\n"
          ]
        }
      ]
    },
    {
      "cell_type": "code",
      "source": [
        "hist = model.fit_generator(\n",
        "    train_generator,\n",
        "    epochs=50,\n",
        "    validation_data = validation_generator,\n",
        "    validation_steps=2,\n",
        "    callbacks=callbacks_list\n",
        ")"
      ],
      "metadata": {
        "colab": {
          "base_uri": "https://localhost:8080/"
        },
        "id": "Xnm9I1lY2KGS",
        "outputId": "ea99af9e-d31e-4ecd-97ea-9aaac638912d"
      },
      "execution_count": 13,
      "outputs": [
        {
          "output_type": "stream",
          "name": "stderr",
          "text": [
            "/usr/local/lib/python3.7/dist-packages/ipykernel_launcher.py:6: UserWarning: `Model.fit_generator` is deprecated and will be removed in a future version. Please use `Model.fit`, which supports generators.\n",
            "  \n"
          ]
        },
        {
          "output_type": "stream",
          "name": "stdout",
          "text": [
            "Epoch 1/50\n",
            "22/22 [==============================] - 192s 8s/step - loss: 0.6933 - acc: 0.5057 - val_loss: 0.6959 - val_acc: 0.4375 - lr: 0.0010\n",
            "Epoch 2/50\n",
            "22/22 [==============================] - 19s 839ms/step - loss: 0.6934 - acc: 0.5000 - val_loss: 0.6933 - val_acc: 0.5000 - lr: 0.0010\n",
            "Epoch 3/50\n",
            "22/22 [==============================] - 19s 822ms/step - loss: 0.6934 - acc: 0.5000 - val_loss: 0.6943 - val_acc: 0.4688 - lr: 0.0010\n",
            "Epoch 4/50\n",
            "22/22 [==============================] - 19s 836ms/step - loss: 0.6933 - acc: 0.5000 - val_loss: 0.6914 - val_acc: 0.5625 - lr: 0.0010\n",
            "Epoch 5/50\n",
            "22/22 [==============================] - 18s 824ms/step - loss: 0.6933 - acc: 0.5000 - val_loss: 0.6916 - val_acc: 0.5625 - lr: 0.0010\n",
            "Epoch 6/50\n",
            "22/22 [==============================] - 19s 829ms/step - loss: 0.6933 - acc: 0.5000 - val_loss: 0.6940 - val_acc: 0.4688 - lr: 0.0010\n",
            "Epoch 7/50\n",
            "22/22 [==============================] - ETA: 0s - loss: 0.6932 - acc: 0.5000\n",
            "Epoch 7: ReduceLROnPlateau reducing learning rate to 0.0003000000142492354.\n",
            "22/22 [==============================] - 19s 832ms/step - loss: 0.6932 - acc: 0.5000 - val_loss: 0.6932 - val_acc: 0.5000 - lr: 0.0010\n",
            "Epoch 8/50\n",
            "22/22 [==============================] - 19s 833ms/step - loss: 0.6932 - acc: 0.5000 - val_loss: 0.6939 - val_acc: 0.4688 - lr: 3.0000e-04\n"
          ]
        }
      ]
    },
    {
      "cell_type": "code",
      "source": [
        "def show_cf(y_true, y_pred, class_names, model_name=None):\n",
        "    \"\"\"Plots a confusion matrix\"\"\"\n",
        "    cf = confusion_matrix(y_true, y_pred)\n",
        "    plt.imshow(cf, cmap=plt.cm.Blues)\n",
        "    \n",
        "    if model_name:\n",
        "        plt.title(\"Confusion Matrix: {}\".format(model_name))\n",
        "    else:\n",
        "        plt.title(\"Confusion Matrix\")\n",
        "    plt.ylabel('True Label')\n",
        "    plt.xlabel('Predicted Label')\n",
        "    \n",
        "    class_names = set(y_true)\n",
        "    tick_marks = np.arange(len(class_names))\n",
        "    if class_names:\n",
        "        plt.xticks(tick_marks, class_names)\n",
        "        plt.yticks(tick_marks, class_names)\n",
        "    \n",
        "    thresh = cf.max() / 2.\n",
        "    \n",
        "    for i, j in itertools.product(range(cf.shape[0]), range(cf.shape[1])):\n",
        "        plt.text(j, i, cf[i, j], horizontalalignment='center', color='white' if cf[i, j] > thresh else 'black')\n",
        "\n",
        "    plt.colorbar()"
      ],
      "metadata": {
        "id": "4juMgPnH8lHO"
      },
      "execution_count": 14,
      "outputs": []
    },
    {
      "cell_type": "code",
      "source": [
        "def cnn_evaluation(model, history, train_images, train_labels, test_images, test_labels, class_names, model_name=None):\n",
        "    \"\"\"\n",
        "    Evaluates the performance of a CNN with loss and accuracy plots, a confusion matrix and a classification report for the training and test sets.\n",
        "    \"\"\"\n",
        "    train_acc = history.history['acc']\n",
        "    val_acc = history.history['val_acc']\n",
        "    train_loss = history.history['loss']\n",
        "    val_loss = history.history['val_loss']\n",
        "    epch = range(1, len(train_acc) + 1)\n",
        "    plt.plot(epch, train_acc, 'g.', label='Training Accuracy')\n",
        "    plt.plot(epch, val_acc, 'g', label='Validation acc')\n",
        "    plt.title('Accuracy')\n",
        "    plt.legend()\n",
        "    plt.figure()\n",
        "    plt.plot(epch, train_loss, 'r.', label='Training loss')\n",
        "    plt.plot(epch, val_loss, 'r', label='Validation loss')\n",
        "    plt.title('Loss')\n",
        "    plt.legend()\n",
        "    plt.show()"
      ],
      "metadata": {
        "id": "igu8bVe48w9j"
      },
      "execution_count": 18,
      "outputs": []
    },
    {
      "cell_type": "code",
      "source": [
        "trainImagesX = '/content/drive/MyDrive/CovidDataset/Train/Covid'\n",
        "trainImagesY = '/content/drive/MyDrive/CovidDataset/Train/Normal'\n",
        "\n",
        "testImagesX = '/content/drive/MyDrive/CovidDataset/Val/Covid'\n",
        "testImagesY = '/content/drive/MyDrive/CovidDataset/Val/Normal'"
      ],
      "metadata": {
        "id": "4Oy_nMPp80ht"
      },
      "execution_count": 16,
      "outputs": []
    },
    {
      "cell_type": "code",
      "source": [
        "import matplotlib.pyplot as plt\n",
        "%matplotlib inline\n",
        "\n",
        "cnn_evaluation(model, hist, trainImagesX,trainImagesY,  testImagesX,testImagesY, class_names=['Covid', 'Normal'])"
      ],
      "metadata": {
        "colab": {
          "base_uri": "https://localhost:8080/",
          "height": 545
        },
        "id": "1i3HXIdZ88p8",
        "outputId": "4433451f-a9d9-49d0-a2da-77c3f5d01070"
      },
      "execution_count": 19,
      "outputs": [
        {
          "output_type": "display_data",
          "data": {
            "image/png": "[encoded data removed]",
            "text/plain": [
              "<Figure size 432x288 with 1 Axes>"
            ]
          },
          "metadata": {
            "needs_background": "light"
          }
        },
        {
          "output_type": "display_data",
          "data": {
            "image/png": "[encoded data removed]",
            "text/plain": [
              "<Figure size 432x288 with 1 Axes>"
            ]
          },
          "metadata": {
            "needs_background": "light"
          }
        }
      ]
    },
    {
      "cell_type": "code",
      "source": [
        "# Test Images\n",
        "\n",
        "y_actual = []\n",
        "y_test = []"
      ],
      "metadata": {
        "id": "JjT1d2j09b4M"
      },
      "execution_count": 20,
      "outputs": []
    },
    {
      "cell_type": "code",
      "source": [
        "for i in os.listdir(\"/content/drive/MyDrive/CovidDataset/Val/Normal/\"):\n",
        "  img = image.load_img(\"/content/drive/MyDrive/CovidDataset/Val/Normal/\"+i, target_size=(224, 224))\n",
        "  img = image.img_to_array(img)\n",
        "  img = np.expand_dims(img, axis=0)\n",
        "  p = model.predict(img)\n",
        "  y_test.append(p[0, 0])\n",
        "  y_actual.append(1)"
      ],
      "metadata": {
        "id": "o36WzA_R91CL"
      },
      "execution_count": 21,
      "outputs": []
    },
    {
      "cell_type": "code",
      "source": [
        "for i in os.listdir(\"/content/drive/MyDrive/CovidDataset/Val/Covid/\"):\n",
        "  img = image.load_img(\"/content/drive/MyDrive/CovidDataset/Val/Covid/\"+i, target_size=(224, 224))\n",
        "  img = image.img_to_array(img)\n",
        "  img = np.expand_dims(img, axis=0)\n",
        "  p = model.predict(img)\n",
        "  y_test.append(p[0, 0])\n",
        "  y_actual.append(0)"
      ],
      "metadata": {
        "id": "YriyTHny98_V"
      },
      "execution_count": 22,
      "outputs": []
    },
    {
      "cell_type": "code",
      "source": [
        "y_actual = np.array(y_actual)\n",
        "y_test = np.array(y_test)"
      ],
      "metadata": {
        "id": "2_2HlkBZ-Btd"
      },
      "execution_count": 23,
      "outputs": []
    },
    {
      "cell_type": "code",
      "source": [
        "y_actual"
      ],
      "metadata": {
        "colab": {
          "base_uri": "https://localhost:8080/"
        },
        "id": "zOMitCJI-EVZ",
        "outputId": "ecb52d73-184f-4c51-9ff3-8c8979bb5378"
      },
      "execution_count": 24,
      "outputs": [
        {
          "output_type": "execute_result",
          "data": {
            "text/plain": [
              "array([1, 1, 1, 1, 1, 1, 1, 1, 1, 1, 1, 1, 1, 1, 1, 1, 1, 1, 1, 1, 0, 0,\n",
              "       0, 0, 0, 0, 0, 0, 0, 0, 0, 0, 0, 0, 0, 0, 0, 0, 0, 0])"
            ]
          },
          "metadata": {},
          "execution_count": 24
        }
      ]
    },
    {
      "cell_type": "code",
      "source": [
        "y_test"
      ],
      "metadata": {
        "colab": {
          "base_uri": "https://localhost:8080/"
        },
        "id": "sc5fQ7HK-Gr_",
        "outputId": "1134cf00-753f-4555-a3ac-d958096bd1b1"
      },
      "execution_count": 25,
      "outputs": [
        {
          "output_type": "execute_result",
          "data": {
            "text/plain": [
              "array([0.4947737, 0.4947737, 0.4947737, 0.4947737, 0.4947737, 0.4947737,\n",
              "       0.4947737, 0.4947737, 0.4947737, 0.4947737, 0.4947737, 0.4947737,\n",
              "       0.4947737, 0.4947737, 0.4947737, 0.4947737, 0.4947737, 0.4947737,\n",
              "       0.4947737, 0.4947737, 0.4947737, 0.4947737, 0.4947737, 0.4947737,\n",
              "       0.4947737, 0.4947737, 0.4947737, 0.4947737, 0.4947737, 0.4947737,\n",
              "       0.4947737, 0.4947737, 0.4947737, 0.4947737, 0.4947737, 0.4947737,\n",
              "       0.4947737, 0.4947737, 0.4947737, 0.4947737], dtype=float32)"
            ]
          },
          "metadata": {},
          "execution_count": 25
        }
      ]
    },
    {
      "cell_type": "code",
      "source": [
        "# Train Images\n",
        "\n",
        "x_actual = []\n",
        "x_test = []"
      ],
      "metadata": {
        "id": "zekjSJRpCPrC"
      },
      "execution_count": 39,
      "outputs": []
    },
    {
      "cell_type": "code",
      "source": [
        "for i in os.listdir(\"/content/drive/MyDrive/CovidDataset/Train/Normal/\"):\n",
        "  img = image.load_img(\"/content/drive/MyDrive/CovidDataset/Train/Normal/\"+i, target_size=(224, 224))\n",
        "  img = image.img_to_array(img)\n",
        "  img = np.expand_dims(img, axis=0)\n",
        "  p = model.predict(img)\n",
        "  x_test.append(p[0, 0])\n",
        "  x_actual.append(1)"
      ],
      "metadata": {
        "id": "v1rHy6HTCTxU"
      },
      "execution_count": 40,
      "outputs": []
    },
    {
      "cell_type": "code",
      "source": [
        "for i in os.listdir(\"/content/drive/MyDrive/CovidDataset/Train/Covid/\"):\n",
        "  img = image.load_img(\"/content/drive/MyDrive/CovidDataset/Train/Covid/\"+i, target_size=(224, 224))\n",
        "  img = image.img_to_array(img)\n",
        "  img = np.expand_dims(img, axis=0)\n",
        "  p = model.predict(img)\n",
        "  x_test.append(p[0, 0])\n",
        "  x_actual.append(0)"
      ],
      "metadata": {
        "id": "PhjhSJ1ECfFo"
      },
      "execution_count": 41,
      "outputs": []
    },
    {
      "cell_type": "code",
      "source": [
        "x_actual = np.array(x_actual)\n",
        "x_test = np.array(x_test)"
      ],
      "metadata": {
        "id": "YV8f9TkBDKDV"
      },
      "execution_count": 46,
      "outputs": []
    },
    {
      "cell_type": "code",
      "source": [
        "x_actual"
      ],
      "metadata": {
        "colab": {
          "base_uri": "https://localhost:8080/"
        },
        "id": "tD9F70w_C2AJ",
        "outputId": "fd316441-cdee-4637-ba1a-7568da305b90"
      },
      "execution_count": 47,
      "outputs": [
        {
          "output_type": "execute_result",
          "data": {
            "text/plain": [
              "array([1, 1, 1, 1, 1, 1, 1, 1, 1, 1, 1, 1, 1, 1, 1, 1, 1, 1, 1, 1, 1, 1,\n",
              "       1, 1, 1, 1, 1, 1, 1, 1, 1, 1, 1, 1, 1, 1, 1, 1, 1, 1, 1, 1, 1, 1,\n",
              "       1, 1, 1, 1, 1, 1, 1, 1, 1, 1, 1, 1, 1, 1, 1, 1, 1, 1, 1, 1, 1, 1,\n",
              "       1, 1, 1, 1, 1, 1, 1, 1, 1, 1, 1, 1, 1, 1, 1, 1, 1, 1, 1, 1, 1, 1,\n",
              "       1, 1, 1, 1, 1, 1, 1, 1, 1, 1, 1, 1, 1, 1, 1, 1, 1, 1, 1, 1, 1, 1,\n",
              "       1, 1, 1, 1, 1, 1, 1, 1, 1, 1, 1, 1, 1, 1, 1, 1, 1, 1, 1, 1, 1, 1,\n",
              "       1, 1, 1, 1, 1, 1, 1, 1, 1, 1, 1, 1, 1, 1, 1, 1, 1, 1, 1, 1, 1, 1,\n",
              "       1, 1, 1, 1, 1, 1, 1, 1, 1, 1, 1, 1, 1, 1, 1, 1, 1, 1, 1, 1, 1, 1,\n",
              "       0, 0, 0, 0, 0, 0, 0, 0, 0, 0, 0, 0, 0, 0, 0, 0, 0, 0, 0, 0, 0, 0,\n",
              "       0, 0, 0, 0, 0, 0, 0, 0, 0, 0, 0, 0, 0, 0, 0, 0, 0, 0, 0, 0, 0, 0,\n",
              "       0, 0, 0, 0, 0, 0, 0, 0, 0, 0, 0, 0, 0, 0, 0, 0, 0, 0, 0, 0, 0, 0,\n",
              "       0, 0, 0, 0, 0, 0, 0, 0, 0, 0, 0, 0, 0, 0, 0, 0, 0, 0, 0, 0, 0, 0,\n",
              "       0, 0, 0, 0, 0, 0, 0, 0, 0, 0, 0, 0, 0, 0, 0, 0, 0, 0, 0, 0, 0, 0,\n",
              "       0, 0, 0, 0, 0, 0, 0, 0, 0, 0, 0, 0, 0, 0, 0, 0, 0, 0, 0, 0, 0, 0,\n",
              "       0, 0, 0, 0, 0, 0, 0, 0, 0, 0, 0, 0, 0, 0, 0, 0, 0, 0, 0, 0, 0, 0,\n",
              "       0, 0, 0, 0, 0, 0, 0, 0, 0, 0, 0, 0, 0, 0, 0, 0, 0, 0, 0, 0, 0, 0])"
            ]
          },
          "metadata": {},
          "execution_count": 47
        }
      ]
    },
    {
      "cell_type": "code",
      "source": [
        "x_test"
      ],
      "metadata": {
        "colab": {
          "base_uri": "https://localhost:8080/"
        },
        "id": "BAgdaZZnC6DX",
        "outputId": "63690c90-7041-418e-85ff-a070b801a3d9"
      },
      "execution_count": 48,
      "outputs": [
        {
          "output_type": "execute_result",
          "data": {
            "text/plain": [
              "array([0.4947737, 0.4947737, 0.4947737, 0.4947737, 0.4947737, 0.4947737,\n",
              "       0.4947737, 0.4947737, 0.4947737, 0.4947737, 0.4947737, 0.4947737,\n",
              "       0.4947737, 0.4947737, 0.4947737, 0.4947737, 0.4947737, 0.4947737,\n",
              "       0.4947737, 0.4947737, 0.4947737, 0.4947737, 0.4947737, 0.4947737,\n",
              "       0.4947737, 0.4947737, 0.4947737, 0.4947737, 0.4947737, 0.4947737,\n",
              "       0.4947737, 0.4947737, 0.4947737, 0.4947737, 0.4947737, 0.4947737,\n",
              "       0.4947737, 0.4947737, 0.4947737, 0.4947737, 0.4947737, 0.4947737,\n",
              "       0.4947737, 0.4947737, 0.4947737, 0.4947737, 0.4947737, 0.4947737,\n",
              "       0.4947737, 0.4947737, 0.4947737, 0.4947737, 0.4947737, 0.4947737,\n",
              "       0.4947737, 0.4947737, 0.4947737, 0.4947737, 0.4947737, 0.4947737,\n",
              "       0.4947737, 0.4947737, 0.4947737, 0.4947737, 0.4947737, 0.4947737,\n",
              "       0.4947737, 0.4947737, 0.4947737, 0.4947737, 0.4947737, 0.4947737,\n",
              "       0.4947737, 0.4947737, 0.4947737, 0.4947737, 0.4947737, 0.4947737,\n",
              "       0.4947737, 0.4947737, 0.4947737, 0.4947737, 0.4947737, 0.4947737,\n",
              "       0.4947737, 0.4947737, 0.4947737, 0.4947737, 0.4947737, 0.4947737,\n",
              "       0.4947737, 0.4947737, 0.4947737, 0.4947737, 0.4947737, 0.4947737,\n",
              "       0.4947737, 0.4947737, 0.4947737, 0.4947737, 0.4947737, 0.4947737,\n",
              "       0.4947737, 0.4947737, 0.4947737, 0.4947737, 0.4947737, 0.4947737,\n",
              "       0.4947737, 0.4947737, 0.4947737, 0.4947737, 0.4947737, 0.4947737,\n",
              "       0.4947737, 0.4947737, 0.4947737, 0.4947737, 0.4947737, 0.4947737,\n",
              "       0.4947737, 0.4947737, 0.4947737, 0.4947737, 0.4947737, 0.4947737,\n",
              "       0.4947737, 0.4947737, 0.4947737, 0.4947737, 0.4947737, 0.4947737,\n",
              "       0.4947737, 0.4947737, 0.4947737, 0.4947737, 0.4947737, 0.4947737,\n",
              "       0.4947737, 0.4947737, 0.4947737, 0.4947737, 0.4947737, 0.4947737,\n",
              "       0.4947737, 0.4947737, 0.4947737, 0.4947737, 0.4947737, 0.4947737,\n",
              "       0.4947737, 0.4947737, 0.4947737, 0.4947737, 0.4947737, 0.4947737,\n",
              "       0.4947737, 0.4947737, 0.4947737, 0.4947737, 0.4947737, 0.4947737,\n",
              "       0.4947737, 0.4947737, 0.4947737, 0.4947737, 0.4947737, 0.4947737,\n",
              "       0.4947737, 0.4947737, 0.4947737, 0.4947737, 0.4947737, 0.4947737,\n",
              "       0.4947737, 0.4947737, 0.4947737, 0.4947737, 0.4947737, 0.4947737,\n",
              "       0.4947737, 0.4947737, 0.4947737, 0.4947737, 0.4947737, 0.4947737,\n",
              "       0.4947737, 0.4947737, 0.4947737, 0.4947737, 0.4947737, 0.4947737,\n",
              "       0.4947737, 0.4947737, 0.4947737, 0.4947737, 0.4947737, 0.4947737,\n",
              "       0.4947737, 0.4947737, 0.4947737, 0.4947737, 0.4947737, 0.4947737,\n",
              "       0.4947737, 0.4947737, 0.4947737, 0.4947737, 0.4947737, 0.4947737,\n",
              "       0.4947737, 0.4947737, 0.4947737, 0.4947737, 0.4947737, 0.4947737,\n",
              "       0.4947737, 0.4947737, 0.4947737, 0.4947737, 0.4947737, 0.4947737,\n",
              "       0.4947737, 0.4947737, 0.4947737, 0.4947737, 0.4947737, 0.4947737,\n",
              "       0.4947737, 0.4947737, 0.4947737, 0.4947737, 0.4947737, 0.4947737,\n",
              "       0.4947737, 0.4947737, 0.4947737, 0.4947737, 0.4947737, 0.4947737,\n",
              "       0.4947737, 0.4947737, 0.4947737, 0.4947737, 0.4947737, 0.4947737,\n",
              "       0.4947737, 0.4947737, 0.4947737, 0.4947737, 0.4947737, 0.4947737,\n",
              "       0.4947737, 0.4947737, 0.4947737, 0.4947737, 0.4947737, 0.4947737,\n",
              "       0.4947737, 0.4947737, 0.4947737, 0.4947737, 0.4947737, 0.4947737,\n",
              "       0.4947737, 0.4947737, 0.4947737, 0.4947737, 0.4947737, 0.4947737,\n",
              "       0.4947737, 0.4947737, 0.4947737, 0.4947737, 0.4947737, 0.4947737,\n",
              "       0.4947737, 0.4947737, 0.4947737, 0.4947737, 0.4947737, 0.4947737,\n",
              "       0.4947737, 0.4947737, 0.4947737, 0.4947737, 0.4947737, 0.4947737,\n",
              "       0.4947737, 0.4947737, 0.4947737, 0.4947737, 0.4947737, 0.4947737,\n",
              "       0.4947737, 0.4947737, 0.4947737, 0.4947737, 0.4947737, 0.4947737,\n",
              "       0.4947737, 0.4947737, 0.4947737, 0.4947737, 0.4947737, 0.4947737,\n",
              "       0.4947737, 0.4947737, 0.4947737, 0.4947737, 0.4947737, 0.4947737,\n",
              "       0.4947737, 0.4947737, 0.4947737, 0.4947737, 0.4947737, 0.4947737,\n",
              "       0.4947737, 0.4947737, 0.4947737, 0.4947737, 0.4947737, 0.4947737,\n",
              "       0.4947737, 0.4947737, 0.4947737, 0.4947737, 0.4947737, 0.4947737,\n",
              "       0.4947737, 0.4947737, 0.4947737, 0.4947737, 0.4947737, 0.4947737,\n",
              "       0.4947737, 0.4947737, 0.4947737, 0.4947737, 0.4947737, 0.4947737,\n",
              "       0.4947737, 0.4947737, 0.4947737, 0.4947737, 0.4947737, 0.4947737,\n",
              "       0.4947737, 0.4947737, 0.4947737, 0.4947737], dtype=float32)"
            ]
          },
          "metadata": {},
          "execution_count": 48
        }
      ]
    },
    {
      "cell_type": "code",
      "source": [
        "y_test1 = np.round(abs(y_test))"
      ],
      "metadata": {
        "id": "rE0hTUJBEptk"
      },
      "execution_count": 52,
      "outputs": []
    },
    {
      "cell_type": "code",
      "source": [
        "y_test1"
      ],
      "metadata": {
        "colab": {
          "base_uri": "https://localhost:8080/"
        },
        "id": "YhLD06kJE0XW",
        "outputId": "478c1c7c-ec2f-4f04-9b8c-ab9b0f40e728"
      },
      "execution_count": 53,
      "outputs": [
        {
          "output_type": "execute_result",
          "data": {
            "text/plain": [
              "array([0., 0., 0., 0., 0., 0., 0., 0., 0., 0., 0., 0., 0., 0., 0., 0., 0.,\n",
              "       0., 0., 0., 0., 0., 0., 0., 0., 0., 0., 0., 0., 0., 0., 0., 0., 0.,\n",
              "       0., 0., 0., 0., 0., 0.], dtype=float32)"
            ]
          },
          "metadata": {},
          "execution_count": 53
        }
      ]
    },
    {
      "cell_type": "code",
      "source": [
        "def get_classification_metric(testy, probs):\n",
        "    from sklearn.metrics import precision_recall_curve\n",
        "    precision, recall, thresholds = precision_recall_curve(testy, probs[:])\n",
        "    # convert to f score\n",
        "    fscore = (2 * precision * recall) / (precision + recall)\n",
        "    # locate the index of the largest f score\n",
        "    ix = np.argmax(fscore)\n",
        "    return fscore[ix]"
      ],
      "metadata": {
        "id": "JzhHl0PSFPUw"
      },
      "execution_count": 57,
      "outputs": []
    },
    {
      "cell_type": "code",
      "source": [
        "def get_classification_precision(testy, probs):\n",
        "    from sklearn.metrics import precision_recall_curve\n",
        "    precision, recall, thresholds = precision_recall_curve(testy, probs[:])\n",
        "    # convert to f score\n",
        "    fscore = (2 * precision * recall) / (precision + recall)\n",
        "    # locate the index of the largest f score\n",
        "    ix = np.argmax(fscore)\n",
        "    return precision"
      ],
      "metadata": {
        "id": "cZPvPELeFo7n"
      },
      "execution_count": 60,
      "outputs": []
    },
    {
      "cell_type": "code",
      "source": [
        "def get_classification_recall(testy, probs):\n",
        "    from sklearn.metrics import precision_recall_curve\n",
        "    precision, recall, thresholds = precision_recall_curve(testy, probs[:])\n",
        "    # convert to f score\n",
        "    fscore = (2 * precision * recall) / (precision + recall)\n",
        "    # locate the index of the largest f score\n",
        "    ix = np.argmax(fscore)\n",
        "    return recall"
      ],
      "metadata": {
        "id": "XfVK5QpoGE-k"
      },
      "execution_count": 63,
      "outputs": []
    },
    {
      "cell_type": "code",
      "source": [
        "recall = get_classification_recall(y_actual, y_test)"
      ],
      "metadata": {
        "id": "tj2PcwvmGQn8"
      },
      "execution_count": 64,
      "outputs": []
    },
    {
      "cell_type": "code",
      "source": [
        "recall"
      ],
      "metadata": {
        "colab": {
          "base_uri": "https://localhost:8080/"
        },
        "id": "81S_e4ULGb-_",
        "outputId": "82a57a09-1c7a-482a-c58c-6d264cd0c640"
      },
      "execution_count": 65,
      "outputs": [
        {
          "output_type": "execute_result",
          "data": {
            "text/plain": [
              "array([1., 0.])"
            ]
          },
          "metadata": {},
          "execution_count": 65
        }
      ]
    },
    {
      "cell_type": "code",
      "source": [
        "def get_classification_thresholds(testy, probs):\n",
        "    from sklearn.metrics import precision_recall_curve\n",
        "    precision, recall, thresholds = precision_recall_curve(testy, probs[:])\n",
        "    # convert to f score\n",
        "    fscore = (2 * precision * recall) / (precision + recall)\n",
        "    # locate the index of the largest f score\n",
        "    ix = np.argmax(fscore)\n",
        "    return thresholds"
      ],
      "metadata": {
        "id": "V-yWo6DAGgtw"
      },
      "execution_count": 66,
      "outputs": []
    },
    {
      "cell_type": "code",
      "source": [
        "thresholds = get_classification_thresholds(y_actual, y_test)"
      ],
      "metadata": {
        "id": "LXubunNoGp_k"
      },
      "execution_count": 67,
      "outputs": []
    },
    {
      "cell_type": "code",
      "source": [
        "thresholds"
      ],
      "metadata": {
        "colab": {
          "base_uri": "https://localhost:8080/"
        },
        "id": "JeVZyqYVGxPO",
        "outputId": "5dc1b94f-3604-4d92-d432-ce91050ac63c"
      },
      "execution_count": 68,
      "outputs": [
        {
          "output_type": "execute_result",
          "data": {
            "text/plain": [
              "array([0.4947737], dtype=float32)"
            ]
          },
          "metadata": {},
          "execution_count": 68
        }
      ]
    },
    {
      "cell_type": "code",
      "source": [
        "precision = get_classification_precision(y_actual, y_test)"
      ],
      "metadata": {
        "id": "5WTu7wFSFySd"
      },
      "execution_count": 61,
      "outputs": []
    },
    {
      "cell_type": "code",
      "source": [
        "precision"
      ],
      "metadata": {
        "colab": {
          "base_uri": "https://localhost:8080/"
        },
        "id": "OpcN5YThF7u5",
        "outputId": "6d829bee-c3d8-4c64-d476-6e6baa251312"
      },
      "execution_count": 62,
      "outputs": [
        {
          "output_type": "execute_result",
          "data": {
            "text/plain": [
              "array([0.5, 1. ])"
            ]
          },
          "metadata": {},
          "execution_count": 62
        }
      ]
    },
    {
      "cell_type": "code",
      "source": [
        "metric = get_classification_metric(y_actual, y_test)"
      ],
      "metadata": {
        "id": "JSMuLuINFQ8Z"
      },
      "execution_count": 58,
      "outputs": []
    },
    {
      "cell_type": "code",
      "source": [
        "metric"
      ],
      "metadata": {
        "colab": {
          "base_uri": "https://localhost:8080/"
        },
        "id": "TLImPUYKFft8",
        "outputId": "a38929fb-de97-4f0e-dac2-fbddb8041c3d"
      },
      "execution_count": 59,
      "outputs": [
        {
          "output_type": "execute_result",
          "data": {
            "text/plain": [
              "0.6666666666666666"
            ]
          },
          "metadata": {},
          "execution_count": 59
        }
      ]
    },
    {
      "cell_type": "code",
      "source": [
        "model.save(\"/content/drive/MyDrive/Major Project Models/VGG_19_Model.h5\")"
      ],
      "metadata": {
        "id": "MSsXtaOpLDpx"
      },
      "execution_count": 81,
      "outputs": []
    }
  ]
}