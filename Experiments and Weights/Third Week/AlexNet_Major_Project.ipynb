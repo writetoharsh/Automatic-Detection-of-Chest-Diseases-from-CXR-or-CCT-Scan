{
  "nbformat": 4,
  "nbformat_minor": 0,
  "metadata": {
    "colab": {
      "name": "AlexNet_Major_Project.ipynb",
      "provenance": [],
      "collapsed_sections": []
    },
    "kernelspec": {
      "name": "python3",
      "display_name": "Python 3"
    },
    "language_info": {
      "name": "python"
    },
    "accelerator": "GPU"
  },
  "cells": [
    {
      "cell_type": "code",
      "execution_count": 1,
      "metadata": {
        "id": "WUDXIxpeoxzs"
      },
      "outputs": [],
      "source": [
        "TRAIN_PATH = \"/content/drive/MyDrive/CovidDataset/Train\" \n",
        "VAL_PATH = \"/content/drive/MyDrive/CovidDataset/Val\""
      ]
    },
    {
      "cell_type": "code",
      "source": [
        "import numpy as np\n",
        "import matplotlib.pyplot as plt\n",
        "import keras\n",
        "from keras.layers import *\n",
        "from keras.models import *\n",
        "from keras.preprocessing import image"
      ],
      "metadata": {
        "id": "EnRTYMflvn-V"
      },
      "execution_count": 2,
      "outputs": []
    },
    {
      "cell_type": "code",
      "source": [
        "# AlexNet Based Model in Keras\n",
        "\n",
        "model = Sequential()\n",
        "\n",
        "model.add(Conv2D(96, kernel_size=(3,3), activation='selu', input_shape=(224, 224, 3)))\n",
        "model.add(MaxPooling2D(pool_size=(2,2)))\n",
        "model.add(LayerNormalization())\n",
        "\n",
        "model.add(Conv2D(256, (3,3), activation='selu'))\n",
        "model.add(MaxPooling2D(pool_size=(2,2)))\n",
        "model.add(LayerNormalization())\n",
        "\n",
        "model.add(Conv2D(384, (3,3), activation='selu'))\n",
        "\n",
        "model.add(Conv2D(384, (3,3), activation='selu'))\n",
        "\n",
        "model.add(Conv2D(256, (3,3), activation='selu'))\n",
        "model.add(MaxPooling2D(pool_size=(2,2)))\n",
        "\n",
        "model.add(GlobalAveragePooling2D())\n",
        "model.add(Dropout(0.25))\n",
        "model.add(Dropout(0.25))\n",
        "model.add(Dense(1, activation='softmax'))\n",
        "\n",
        "model.compile(loss=keras.losses.binary_crossentropy, optimizer='adam', metrics=['accuracy'])"
      ],
      "metadata": {
        "id": "bKed6-HxvsMo"
      },
      "execution_count": 3,
      "outputs": []
    },
    {
      "cell_type": "code",
      "source": [
        "model.summary()"
      ],
      "metadata": {
        "colab": {
          "base_uri": "https://localhost:8080/"
        },
        "id": "zfCcPwZo2jOV",
        "outputId": "f2c283c0-5778-4d8a-a21c-c96fea5cd66a"
      },
      "execution_count": 4,
      "outputs": [
        {
          "output_type": "stream",
          "name": "stdout",
          "text": [
            "Model: \"sequential\"\n",
            "_________________________________________________________________\n",
            " Layer (type)                Output Shape              Param #   \n",
            "=================================================================\n",
            " conv2d (Conv2D)             (None, 222, 222, 96)      2688      \n",
            "                                                                 \n",
            " max_pooling2d (MaxPooling2D  (None, 111, 111, 96)     0         \n",
            " )                                                               \n",
            "                                                                 \n",
            " layer_normalization (LayerN  (None, 111, 111, 96)     192       \n",
            " ormalization)                                                   \n",
            "                                                                 \n",
            " conv2d_1 (Conv2D)           (None, 109, 109, 256)     221440    \n",
            "                                                                 \n",
            " max_pooling2d_1 (MaxPooling  (None, 54, 54, 256)      0         \n",
            " 2D)                                                             \n",
            "                                                                 \n",
            " layer_normalization_1 (Laye  (None, 54, 54, 256)      512       \n",
            " rNormalization)                                                 \n",
            "                                                                 \n",
            " conv2d_2 (Conv2D)           (None, 52, 52, 384)       885120    \n",
            "                                                                 \n",
            " conv2d_3 (Conv2D)           (None, 50, 50, 384)       1327488   \n",
            "                                                                 \n",
            " conv2d_4 (Conv2D)           (None, 48, 48, 256)       884992    \n",
            "                                                                 \n",
            " max_pooling2d_2 (MaxPooling  (None, 24, 24, 256)      0         \n",
            " 2D)                                                             \n",
            "                                                                 \n",
            " global_average_pooling2d (G  (None, 256)              0         \n",
            " lobalAveragePooling2D)                                          \n",
            "                                                                 \n",
            " dropout (Dropout)           (None, 256)               0         \n",
            "                                                                 \n",
            " dropout_1 (Dropout)         (None, 256)               0         \n",
            "                                                                 \n",
            " dense (Dense)               (None, 1)                 257       \n",
            "                                                                 \n",
            "=================================================================\n",
            "Total params: 3,322,689\n",
            "Trainable params: 3,322,689\n",
            "Non-trainable params: 0\n",
            "_________________________________________________________________\n"
          ]
        }
      ]
    },
    {
      "cell_type": "code",
      "source": [
        "# Train from scratch\n",
        "train_datagen = image.ImageDataGenerator(\n",
        "    rescale = 1./255,\n",
        "    shear_range = 0.2,\n",
        "    zoom_range = 0.2,\n",
        "    horizontal_flip = True\n",
        ")\n",
        "\n",
        "test_dataset = image.ImageDataGenerator(rescale=1./255)"
      ],
      "metadata": {
        "id": "T_CKc9L23u1W"
      },
      "execution_count": 5,
      "outputs": []
    },
    {
      "cell_type": "code",
      "source": [
        "train_generator = train_datagen.flow_from_directory(\n",
        "    '/content/drive/MyDrive/CovidDataset/Train',\n",
        "    target_size = (224, 224),\n",
        "    batch_size = 16,\n",
        "    class_mode = 'binary'\n",
        ")"
      ],
      "metadata": {
        "colab": {
          "base_uri": "https://localhost:8080/"
        },
        "id": "XWZgyuSG30Gv",
        "outputId": "6331dc6b-62c8-443f-cde4-bda9f469f1e4"
      },
      "execution_count": 6,
      "outputs": [
        {
          "output_type": "stream",
          "name": "stdout",
          "text": [
            "Found 352 images belonging to 2 classes.\n"
          ]
        }
      ]
    },
    {
      "cell_type": "code",
      "source": [
        "train_generator.class_indices"
      ],
      "metadata": {
        "colab": {
          "base_uri": "https://localhost:8080/"
        },
        "id": "OB-tvt4C33zr",
        "outputId": "59769a37-df07-409c-cd6e-105369e017bd"
      },
      "execution_count": 7,
      "outputs": [
        {
          "output_type": "execute_result",
          "data": {
            "text/plain": [
              "{'Covid': 0, 'Normal': 1}"
            ]
          },
          "metadata": {},
          "execution_count": 7
        }
      ]
    },
    {
      "cell_type": "code",
      "source": [
        "validation_generator = test_dataset.flow_from_directory(\n",
        "    '/content/drive/MyDrive/CovidDataset/Val',\n",
        "    target_size = (224, 224),\n",
        "    batch_size = 16,\n",
        "    class_mode = 'binary'\n",
        ")"
      ],
      "metadata": {
        "colab": {
          "base_uri": "https://localhost:8080/"
        },
        "id": "chfVWf8g37Tv",
        "outputId": "2f98e2b5-2eef-4cbe-b9ab-fac16c821ab4"
      },
      "execution_count": 8,
      "outputs": [
        {
          "output_type": "stream",
          "name": "stdout",
          "text": [
            "Found 40 images belonging to 2 classes.\n"
          ]
        }
      ]
    },
    {
      "cell_type": "code",
      "source": [
        "hist = model.fit_generator(\n",
        "    train_generator,\n",
        "    steps_per_epoch=8,\n",
        "    epochs=10,\n",
        "    validation_data = validation_generator,\n",
        "    validation_steps=2\n",
        ")"
      ],
      "metadata": {
        "colab": {
          "base_uri": "https://localhost:8080/"
        },
        "id": "HyoxQ6iQ3-8D",
        "outputId": "5aefa9ee-ba66-43cb-e68f-a2fa9992984d"
      },
      "execution_count": 9,
      "outputs": [
        {
          "output_type": "stream",
          "name": "stderr",
          "text": [
            "/usr/local/lib/python3.7/dist-packages/ipykernel_launcher.py:6: UserWarning: `Model.fit_generator` is deprecated and will be removed in a future version. Please use `Model.fit`, which supports generators.\n",
            "  \n"
          ]
        },
        {
          "output_type": "stream",
          "name": "stdout",
          "text": [
            "Epoch 1/10\n",
            "8/8 [==============================] - 60s 6s/step - loss: 19.7572 - accuracy: 0.4922 - val_loss: 4.9778 - val_accuracy: 0.5312\n",
            "Epoch 2/10\n",
            "8/8 [==============================] - 24s 3s/step - loss: 5.7202 - accuracy: 0.4766 - val_loss: 6.2016 - val_accuracy: 0.5000\n",
            "Epoch 3/10\n",
            "8/8 [==============================] - 16s 2s/step - loss: 3.4524 - accuracy: 0.5000 - val_loss: 0.8424 - val_accuracy: 0.5625\n",
            "Epoch 4/10\n",
            "8/8 [==============================] - 13s 2s/step - loss: 3.5683 - accuracy: 0.4297 - val_loss: 0.8513 - val_accuracy: 0.5000\n",
            "Epoch 5/10\n",
            "8/8 [==============================] - 10s 1s/step - loss: 1.3629 - accuracy: 0.5000 - val_loss: 0.6609 - val_accuracy: 0.5312\n",
            "Epoch 6/10\n",
            "8/8 [==============================] - 8s 1s/step - loss: 1.0551 - accuracy: 0.5469 - val_loss: 0.6798 - val_accuracy: 0.5000\n",
            "Epoch 7/10\n",
            "8/8 [==============================] - 10s 1s/step - loss: 1.0533 - accuracy: 0.4922 - val_loss: 0.6716 - val_accuracy: 0.5625\n",
            "Epoch 8/10\n",
            "8/8 [==============================] - 8s 1s/step - loss: 0.9792 - accuracy: 0.4375 - val_loss: 0.6850 - val_accuracy: 0.5312\n",
            "Epoch 9/10\n",
            "8/8 [==============================] - 7s 876ms/step - loss: 1.0415 - accuracy: 0.4766 - val_loss: 0.6820 - val_accuracy: 0.5000\n",
            "Epoch 10/10\n",
            "8/8 [==============================] - 8s 936ms/step - loss: 1.2060 - accuracy: 0.4141 - val_loss: 0.6679 - val_accuracy: 0.4062\n"
          ]
        }
      ]
    },
    {
      "cell_type": "code",
      "source": [
        "# Loss is very less\n",
        "\n",
        "model.evaluate_generator(train_generator)"
      ],
      "metadata": {
        "colab": {
          "base_uri": "https://localhost:8080/"
        },
        "id": "fZvyoYbF5_Ht",
        "outputId": "66486042-2dc8-4650-f570-2a6d50a89dfa"
      },
      "execution_count": 10,
      "outputs": [
        {
          "output_type": "stream",
          "name": "stderr",
          "text": [
            "/usr/local/lib/python3.7/dist-packages/ipykernel_launcher.py:3: UserWarning: `Model.evaluate_generator` is deprecated and will be removed in a future version. Please use `Model.evaluate`, which supports generators.\n",
            "  This is separate from the ipykernel package so we can avoid doing imports until\n"
          ]
        },
        {
          "output_type": "execute_result",
          "data": {
            "text/plain": [
              "[0.7167532444000244, 0.5]"
            ]
          },
          "metadata": {},
          "execution_count": 10
        }
      ]
    },
    {
      "cell_type": "code",
      "source": [
        "model.evaluate_generator(validation_generator)"
      ],
      "metadata": {
        "colab": {
          "base_uri": "https://localhost:8080/"
        },
        "id": "48I43gc06KjQ",
        "outputId": "ef3db81d-b43f-414c-8538-0cba2cfc9187"
      },
      "execution_count": 11,
      "outputs": [
        {
          "output_type": "stream",
          "name": "stderr",
          "text": [
            "/usr/local/lib/python3.7/dist-packages/ipykernel_launcher.py:1: UserWarning: `Model.evaluate_generator` is deprecated and will be removed in a future version. Please use `Model.evaluate`, which supports generators.\n",
            "  \"\"\"Entry point for launching an IPython kernel.\n"
          ]
        },
        {
          "output_type": "execute_result",
          "data": {
            "text/plain": [
              "[0.7139847278594971, 0.5]"
            ]
          },
          "metadata": {},
          "execution_count": 11
        }
      ]
    },
    {
      "cell_type": "code",
      "source": [
        "model.save(\"/content/drive/MyDrive/Major Project Models/AlexNet_Model.h5\")"
      ],
      "metadata": {
        "id": "Ku2n_gmL6QJL"
      },
      "execution_count": 12,
      "outputs": []
    },
    {
      "cell_type": "code",
      "source": [
        "import itertools\n",
        "from sklearn.metrics import confusion_matrix, classification_report"
      ],
      "metadata": {
        "id": "VfHiSZKwAJTR"
      },
      "execution_count": 22,
      "outputs": []
    },
    {
      "cell_type": "code",
      "source": [
        "def cnn_evaluation(model, history, train_images, train_labels, test_images, test_labels, class_names, model_name=None):\n",
        "    \"\"\"\n",
        "    Evaluates the performance of a CNN with loss and accuracy plots, a confusion matrix and a classification report for the training and test sets.\n",
        "    \"\"\"\n",
        "    train_acc = history.history['accuracy']\n",
        "    val_acc = history.history['val_accuracy']\n",
        "    train_loss = history.history['loss']\n",
        "    val_loss = history.history['val_loss']\n",
        "    epch = range(1, len(train_acc) + 1)\n",
        "    plt.plot(epch, train_acc, 'g.', label='Training Accuracy')\n",
        "    plt.plot(epch, val_acc, 'g', label='Validation acc')\n",
        "    plt.title('Accuracy')\n",
        "    plt.legend()\n",
        "    plt.figure()\n",
        "    plt.plot(epch, train_loss, 'r.', label='Training loss')\n",
        "    plt.plot(epch, val_loss, 'r', label='Validation loss')\n",
        "    plt.title('Loss')\n",
        "    plt.legend()\n",
        "    plt.show()"
      ],
      "metadata": {
        "id": "ZAYP2kQH7gTT"
      },
      "execution_count": 27,
      "outputs": []
    },
    {
      "cell_type": "code",
      "source": [
        "import matplotlib.pyplot as plt\n",
        "%matplotlib inline"
      ],
      "metadata": {
        "id": "T_HX0wtE7-aF"
      },
      "execution_count": 15,
      "outputs": []
    },
    {
      "cell_type": "code",
      "source": [
        "trainImagesX = '/content/drive/MyDrive/CovidDataset/Train/Covid'\n",
        "trainImagesY = '/content/drive/MyDrive/CovidDataset/Train/Normal'\n",
        "\n",
        "testImagesX = '/content/drive/MyDrive/CovidDataset/Val/Covid'\n",
        "testImagesY = '/content/drive/MyDrive/CovidDataset/Val/Normal'"
      ],
      "metadata": {
        "id": "4CT0LrvO-RN9"
      },
      "execution_count": 16,
      "outputs": []
    },
    {
      "cell_type": "code",
      "source": [
        "cnn_evaluation(model, hist, trainImagesX, trainImagesY, testImagesX, testImagesY, class_names=['covid', 'no findings'])"
      ],
      "metadata": {
        "colab": {
          "base_uri": "https://localhost:8080/",
          "height": 545
        },
        "id": "xqaUloLe9rM_",
        "outputId": "e77a1bde-5b6e-4018-847e-6f1d0bdc7a9d"
      },
      "execution_count": 28,
      "outputs": [
        {
          "output_type": "display_data",
          "data": {
            "image/png": "[encoded data removed]",
            "text/plain": [
              "<Figure size 432x288 with 1 Axes>"
            ]
          },
          "metadata": {
            "needs_background": "light"
          }
        },
        {
          "output_type": "display_data",
          "data": {
            "image/png": "[encoded data removed]",
            "text/plain": [
              "<Figure size 432x288 with 1 Axes>"
            ]
          },
          "metadata": {
            "needs_background": "light"
          }
        }
      ]
    },
    {
      "cell_type": "code",
      "source": [
        "# Test Images\n",
        "\n",
        "y_actual = []\n",
        "y_test = []"
      ],
      "metadata": {
        "id": "RTmkT1sLBKOD"
      },
      "execution_count": 29,
      "outputs": []
    },
    {
      "cell_type": "code",
      "source": [
        "import os"
      ],
      "metadata": {
        "id": "71WHK2O6CEOz"
      },
      "execution_count": 30,
      "outputs": []
    },
    {
      "cell_type": "code",
      "source": [
        "for i in os.listdir(\"/content/drive/MyDrive/CovidDataset/Val/Normal/\"):\n",
        "  img = image.load_img(\"/content/drive/MyDrive/CovidDataset/Val/Normal/\"+i, target_size=(224, 224))\n",
        "  img = image.img_to_array(img)\n",
        "  img = np.expand_dims(img, axis=0)\n",
        "  p = model.predict(img)\n",
        "  classes_x=np.argmax(p, axis=1)\n",
        "  y_test.append(p[0, 0])\n",
        "  y_actual.append(1)"
      ],
      "metadata": {
        "id": "-5SlkZzlCG-q"
      },
      "execution_count": 31,
      "outputs": []
    },
    {
      "cell_type": "code",
      "source": [
        "for i in os.listdir(\"/content/drive/MyDrive/CovidDataset/Val/Covid/\"):\n",
        "  img = image.load_img(\"/content/drive/MyDrive/CovidDataset/Val/Covid/\"+i, target_size=(224, 224))\n",
        "  img = image.img_to_array(img)\n",
        "  img = np.expand_dims(img, axis=0)\n",
        "  p = model.predict(img)\n",
        "  classes_x=np.argmax(p, axis=1)\n",
        "  y_test.append(p[0, 0])\n",
        "  y_actual.append(0)"
      ],
      "metadata": {
        "id": "xqwhkHddCQ8S"
      },
      "execution_count": 33,
      "outputs": []
    },
    {
      "cell_type": "code",
      "source": [
        "y_actual = np.array(y_actual)\n",
        "y_test = np.array(y_test)"
      ],
      "metadata": {
        "id": "kaEhkPZkCkF1"
      },
      "execution_count": 34,
      "outputs": []
    },
    {
      "cell_type": "code",
      "source": [
        "y_actual"
      ],
      "metadata": {
        "colab": {
          "base_uri": "https://localhost:8080/"
        },
        "id": "npfbm-uQCm4a",
        "outputId": "efd981fd-4fb2-4ff0-8899-b62a7481e6c2"
      },
      "execution_count": 35,
      "outputs": [
        {
          "output_type": "execute_result",
          "data": {
            "text/plain": [
              "array([1, 1, 1, 1, 1, 1, 1, 1, 1, 1, 1, 1, 1, 1, 1, 1, 1, 1, 1, 1, 1, 1,\n",
              "       1, 1, 1, 1, 1, 1, 1, 1, 1, 1, 1, 1, 1, 1, 1, 1, 1, 1, 0, 0, 0, 0,\n",
              "       0, 0, 0, 0, 0, 0, 0, 0, 0, 0, 0, 0, 0, 0, 0, 0])"
            ]
          },
          "metadata": {},
          "execution_count": 35
        }
      ]
    },
    {
      "cell_type": "code",
      "source": [
        "y_test"
      ],
      "metadata": {
        "colab": {
          "base_uri": "https://localhost:8080/"
        },
        "id": "cWCfEvhSCqwD",
        "outputId": "6e54ec52-0361-4caa-b872-09c7751ce524"
      },
      "execution_count": 36,
      "outputs": [
        {
          "output_type": "execute_result",
          "data": {
            "text/plain": [
              "array([1., 1., 1., 1., 1., 1., 1., 1., 1., 1., 1., 1., 1., 1., 1., 1., 1.,\n",
              "       1., 1., 1., 1., 1., 1., 1., 1., 1., 1., 1., 1., 1., 1., 1., 1., 1.,\n",
              "       1., 1., 1., 1., 1., 1., 1., 1., 1., 1., 1., 1., 1., 1., 1., 1., 1.,\n",
              "       1., 1., 1., 1., 1., 1., 1., 1., 1.], dtype=float32)"
            ]
          },
          "metadata": {},
          "execution_count": 36
        }
      ]
    },
    {
      "cell_type": "code",
      "source": [
        "cm = confusion_matrix(y_actual, y_test)"
      ],
      "metadata": {
        "id": "4K64sOdFCveL"
      },
      "execution_count": 37,
      "outputs": []
    },
    {
      "cell_type": "code",
      "source": [
        "import seaborn as sns"
      ],
      "metadata": {
        "id": "feHLyxLDC2nL"
      },
      "execution_count": 38,
      "outputs": []
    },
    {
      "cell_type": "code",
      "source": [
        "sns.heatmap(cm, cmap=\"plasma\", annot=True)"
      ],
      "metadata": {
        "colab": {
          "base_uri": "https://localhost:8080/",
          "height": 286
        },
        "id": "TInTCMzHC7g-",
        "outputId": "b09daa2e-69a1-468f-caa6-387bcb3faa3c"
      },
      "execution_count": 39,
      "outputs": [
        {
          "output_type": "execute_result",
          "data": {
            "text/plain": [
              "<matplotlib.axes._subplots.AxesSubplot at 0x7f2241586b50>"
            ]
          },
          "metadata": {},
          "execution_count": 39
        },
        {
          "output_type": "display_data",
          "data": {
            "image/png": "[encoded data removed]",
            "text/plain": [
              "<Figure size 432x288 with 2 Axes>"
            ]
          },
          "metadata": {
            "needs_background": "light"
          }
        }
      ]
    },
    {
      "cell_type": "code",
      "source": [
        "cm"
      ],
      "metadata": {
        "colab": {
          "base_uri": "https://localhost:8080/"
        },
        "id": "esxiDI_fDLyH",
        "outputId": "9041e0cc-fa63-4360-f028-7efc7ae7fb94"
      },
      "execution_count": 40,
      "outputs": [
        {
          "output_type": "execute_result",
          "data": {
            "text/plain": [
              "array([[ 0, 20],\n",
              "       [ 0, 40]])"
            ]
          },
          "metadata": {},
          "execution_count": 40
        }
      ]
    }
  ]
}